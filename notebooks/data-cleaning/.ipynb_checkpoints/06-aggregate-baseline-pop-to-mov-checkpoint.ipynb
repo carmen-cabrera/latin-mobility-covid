{
 "cells": [
  {
   "cell_type": "markdown",
   "id": "5a9c0f5a",
   "metadata": {},
   "source": [
    "# Imports"
   ]
  },
  {
   "cell_type": "code",
   "execution_count": null,
   "id": "8984d50a",
   "metadata": {},
   "outputs": [],
   "source": [
    "import numpy as np\n",
    "import matplotlib.pyplot as plt\n",
    "from matplotlib.lines import Line2D\n",
    "import geopandas as gpd\n",
    "import mycolorpy.colorlist as mcp  # for colormap generation"
   ]
  },
  {
   "cell_type": "markdown",
   "id": "15746e2a",
   "metadata": {},
   "source": [
    "# Define country and parameters"
   ]
  },
  {
   "cell_type": "code",
   "execution_count": null,
   "id": "bc122e04",
   "metadata": {},
   "outputs": [],
   "source": [
    "# Select target country\n",
    "country = 'Colombia'\n",
    "\n",
    "# Set country-specific parameters: ISO codes and buffer size (in meters)\n",
    "if country == 'Argentina':\n",
    "    country_short = 'ARG'   # ISO 3-letter code\n",
    "    country_code = 'AR'     # ISO 2-letter code\n",
    "elif country == 'Chile':\n",
    "    country_short = 'CHL'\n",
    "    country_code = 'CL'\n",
    "elif country == 'Colombia':\n",
    "    country_short = 'COL'\n",
    "    country_code = 'CO'\n",
    "# Uncomment the following if Mexico is to be included in the analysis\n",
    "# elif country == 'Mexico':\n",
    "#     country_short = 'MEX'\n",
    "#     country_code = 'MX'"
   ]
  },
  {
   "cell_type": "markdown",
   "id": "4751a5bc",
   "metadata": {},
   "source": [
    "# Set working directory"
   ]
  },
  {
   "cell_type": "code",
   "execution_count": null,
   "id": "0f5de0b0",
   "metadata": {},
   "outputs": [],
   "source": [
    "# Define working directory path\n",
    "wd = (\n",
    "    '/your/path/to/working/directory/'\n",
    ")"
   ]
  },
  {
   "cell_type": "markdown",
   "id": "b048dcc7",
   "metadata": {},
   "source": [
    "# Load population and mobility grids, create buffered mobility cells\n",
    "and quick graphic test of all grids"
   ]
  },
  {
   "cell_type": "code",
   "execution_count": null,
   "id": "90d72615",
   "metadata": {},
   "outputs": [],
   "source": [
    "# Load population grid shapefile and project to WGS84 (EPSG:4326)\n",
    "grid_popcell = gpd.read_file(\n",
    "    f\"{wd}/data/inputs/grids/Grid_{country}_FB_pop/Grid_{country}.shp\"\n",
    ").to_crs(\"EPSG:4326\")\n",
    "\n",
    "# Load mobility grid shapefile and project to WGS84 (EPSG:4326)\n",
    "grid_movcell = gpd.read_file(\n",
    "    f\"{wd}/data/inputs/grids/Grid_{country}_FB_mov/Grid_{country}.shp\"\n",
    ").to_crs(\"EPSG:4326\")\n",
    "\n",
    "# Estimate buffer radius as 20% of the square root of the area of a typical (cell at index 2500), in meters\n",
    "meters = 0.2 * np.sqrt(\n",
    "    grid_popcell.to_crs(\"EPSG:3857\").loc[2500, \"geometry\"].area\n",
    ")\n",
    "\n",
    "# Create a buffered version of the mobility grid using the estimated radius,\n",
    "# reprojected to WGS84\n",
    "grid_movcell_buff = gpd.GeoDataFrame(\n",
    "    {\n",
    "        \"FID\": grid_movcell[\"FID\"],\n",
    "        \"geometry\": grid_movcell.to_crs(\"EPSG:3857\")\n",
    "        .buffer(meters)\n",
    "        .to_crs(\"EPSG:4326\")\n",
    "    }\n",
    ")\n",
    "\n",
    "# Quick graphic test of the above: visualise population grid, mobility grid, and mobility buffer\n",
    "\n",
    "fig, ax = plt.subplots()\n",
    "\n",
    "# Plot population grid with blue semi-transparent fill\n",
    "grid_popcell.plot(\n",
    "    ax=ax, edgecolor='white', facecolor='blue', alpha=0.3, zorder=1\n",
    ")\n",
    "\n",
    "# Plot mobility grid with red edges and no fill\n",
    "grid_movcell.plot(\n",
    "    ax=ax, edgecolor='red', facecolor='None', alpha=1, zorder=2\n",
    ")\n",
    "\n",
    "# Plot buffered mobility grid with blue edges and no fill\n",
    "grid_movcell_buff.plot(\n",
    "    ax=ax, edgecolor='blue', facecolor='None', alpha=1, zorder=3\n",
    ")\n",
    "\n",
    "# Optional: restrict plot extent to a specific bounding box\n",
    "ax.set_xlim([-65, -64])\n",
    "ax.set_ylim([-40, -39])\n",
    "\n",
    "plt.show()"
   ]
  },
  {
   "cell_type": "markdown",
   "id": "ab558101",
   "metadata": {},
   "source": [
    "# Join buffered mobility cells to population grid to create lookup"
   ]
  },
  {
   "cell_type": "code",
   "execution_count": null,
   "id": "8b68f05e",
   "metadata": {},
   "outputs": [],
   "source": [
    "# Spatial join using buffered mobility cells: include population cells within the buffer\n",
    "gdf_sjoin = gpd.sjoin(\n",
    "    grid_movcell_buff,\n",
    "    grid_popcell,\n",
    "    how='left',\n",
    "    predicate='contains',\n",
    "    lsuffix='mov',\n",
    "    rsuffix='pop'\n",
    ").drop(['index_pop'], axis=1)\n",
    "\n",
    "# Save the buffer-based join result to GeoPackage\n",
    "gdf_sjoin.to_file(f\"{wd}/data/inputs/grids/Grid_{country}_lookup_mov_to_pop.gpkg\")"
   ]
  },
  {
   "cell_type": "markdown",
   "id": "eafdbe9a",
   "metadata": {},
   "source": [
    "# Aggregate imputed population data from pop to mov grid cells"
   ]
  },
  {
   "cell_type": "code",
   "execution_count": null,
   "id": "f7b57196",
   "metadata": {},
   "outputs": [],
   "source": [
    "# Create a copy of the mobility grid for imputing population data\n",
    "grid_pop_imput_movcell = grid_movcell.copy()\n",
    "\n",
    "# Initialize columns for each day of the week (0–6) with NaN\n",
    "for i in range(7):\n",
    "    grid_pop_imput_movcell[str(i)] = [np.nan] * len(grid_pop_imput_movcell)\n",
    "\n",
    "# Load population cell data with imputed population values per weekday\n",
    "grid_pop_imput_popcell = gpd.read_file(\n",
    "    f\"{wd}/data/outputs/{country_short}/grids-with-data/popcell-baseline-imput-pop/popcell-baseline-imput-pop.gpkg\"\n",
    ")\n",
    "\n",
    "# For each mobility cell, sum the weekday populations of the population cells it contains\n",
    "for i in range(len(grid_pop_imput_movcell)):\n",
    "    \n",
    "    # Get indices of population cells within the current mobility cell\n",
    "    FIDs_pop = np.array(gdf_sjoin[gdf_sjoin['FID_mov'] == i]['FID_pop'])\n",
    "    \n",
    "    # Select those population cells\n",
    "    gdf_movcell = grid_pop_imput_popcell.iloc[FIDs_pop]\n",
    "    \n",
    "    # Sum population for each day of the week\n",
    "    for wday in range(7):\n",
    "        pops_movcell = np.array(gdf_movcell[str(wday)])\n",
    "        pops_movcell = pops_movcell[~np.isnan(pops_movcell)]\n",
    "        \n",
    "        # Assign sum if values exist, else keep NaN\n",
    "        grid_pop_imput_movcell.loc[i, str(wday)] = (\n",
    "            np.sum(pops_movcell) if len(pops_movcell) > 0 else np.nan\n",
    "        ) \n",
    "        \n",
    "grid_pop_imput_movcell.to_file(wd + '/data/outputs/' + country_short + '/grids-with-data/movcell-baseline-imput-pop/movcell-baseline-imput-pop.gpkg')"
   ]
  },
  {
   "cell_type": "markdown",
   "id": "336cbd08",
   "metadata": {},
   "source": [
    "# Below, quick visualisation, not necessary for analysis, just for checks"
   ]
  },
  {
   "cell_type": "code",
   "execution_count": null,
   "id": "4bc460e5",
   "metadata": {},
   "outputs": [],
   "source": [
    "fig, ax = plt.subplots(figsize=(15, 15))\n",
    "\n",
    "# Set background color to light sky blue\n",
    "ax.set_facecolor('lightskyblue')\n",
    "\n",
    "# Plot population data for weekday 6 with viridis colormap and natural breaks classification\n",
    "grid_pop_imput_movcell.plot(\n",
    "    column='6',\n",
    "    cmap='viridis',\n",
    "    scheme='natural_breaks',\n",
    "    k=10,\n",
    "    legend=True,\n",
    "    ax=ax\n",
    ")\n",
    "\n",
    "# Remove axis ticks and labels\n",
    "ax.tick_params(axis='both', which='both', width=0, length=0, labelleft=False, labelbottom=False)\n",
    "\n",
    "# Extract legend labels and parse upper bounds for intervals\n",
    "labels = [t.get_text() for t in ax.get_legend().get_texts()]\n",
    "\n",
    "upper = []\n",
    "for i in range(len(labels)):\n",
    "    a = labels[i].split(',')[1]\n",
    "    b = []\n",
    "    for e in a:\n",
    "        if e.isdigit() or e == '.':\n",
    "            b.append(e)\n",
    "    upper.append(float(''.join(b)))\n",
    "upper[-1] += 0.005  # Slightly increase last upper bound\n",
    "\n",
    "# Build custom interval labels\n",
    "custom_labels = ['[0, ' + str(int(upper[0])) + ']']\n",
    "for i in range(len(upper) - 1):\n",
    "    custom_labels.append('[' + str(int(upper[i])) + ', ' + str(int(upper[i+1])) + ']')\n",
    "\n",
    "# Generate matching colors from viridis colormap\n",
    "colors = mcp.gen_color(cmap='viridis', n=10)\n",
    "\n",
    "# Create legend elements with colored markers and custom labels\n",
    "legend_elements = [\n",
    "    Line2D([0], [0], lw=0, color=colors[i], marker='o', markersize=10, label=custom_labels[i])\n",
    "    for i in range(len(colors))\n",
    "]\n",
    "\n",
    "# Optionally add a north arrow image (commented out)\n",
    "# im = plt.imread(wd + '/data/inputs/boundaries/north-arrow.png')\n",
    "# newax = fig.add_axes([0.355, 0.78, 0.04, 0.04], zorder=1)\n",
    "# newax.tick_params(axis='both', which='both', labelbottom=False, labelleft=False, width=0, length=0)\n",
    "# newax.set_facecolor('None')\n",
    "# plt.setp(newax.spines.values(), linewidth=0)\n",
    "# newax.imshow(im)\n",
    "\n",
    "plt.show()\n"
   ]
  }
 ],
 "metadata": {
  "kernelspec": {
   "display_name": "Python 3 (ipykernel)",
   "language": "python",
   "name": "python3"
  },
  "language_info": {
   "codemirror_mode": {
    "name": "ipython",
    "version": 3
   },
   "file_extension": ".py",
   "mimetype": "text/x-python",
   "name": "python",
   "nbconvert_exporter": "python",
   "pygments_lexer": "ipython3",
   "version": "3.10.9"
  }
 },
 "nbformat": 4,
 "nbformat_minor": 5
}
