{
 "cells": [
  {
   "cell_type": "code",
   "execution_count": 51,
   "id": "3e2c1d28",
   "metadata": {},
   "outputs": [],
   "source": [
    "import matplotlib.pyplot as plt\n",
    "import numpy as np\n",
    "import math\n",
    "import pandas as pd\n",
    "import statsmodels.api as sm\n",
    "from scipy.special import gamma, loggamma, factorial\n",
    "import scipy.stats\n",
    "from scipy.interpolate import interp1d\n",
    "from matplotlib.ticker import AutoMinorLocator \n",
    "from matplotlib import rc, font_manager\n",
    "from matplotlib.lines import Line2D\n",
    "from matplotlib import colors as mcolors\n",
    "from mycolorpy import colorlist as mcp\n",
    "from matplotlib import legend_handler\n",
    "from matplotlib_scalebar.scalebar import ScaleBar\n",
    "from mpl_toolkits.axes_grid1 import make_axes_locatable, axes_size\n",
    "import collections\n",
    "import matplotlib\n",
    "import shapely.geometry\n",
    "from shapely.geometry import Point\n",
    "import shapely.ops \n",
    "from geopy.geocoders import Nominatim\n",
    "import geopandas as gpd\n",
    "import mapclassify\n",
    "import jenkspy\n",
    "import contextily as cx\n",
    "import os\n",
    "import rioxarray as rx\n",
    "import pyreadr\n",
    "from sklearn.preprocessing import StandardScaler\n",
    "from sklearn.cluster import KMeans\n",
    "from sklearn import metrics\n",
    "from pysal.lib import weights\n",
    "from libpysal.io import open as psopen\n",
    "# import plots\n",
    "import seaborn as sns\n",
    "from datetime import datetime, timedelta\n",
    "import jenkspy\n",
    "import warnings\n",
    "from statsmodels.tsa.seasonal import seasonal_decompose\n",
    "import statsmodels.formula.api as smf\n",
    "warnings.filterwarnings(\"ignore\")\n"
   ]
  },
  {
   "cell_type": "code",
   "execution_count": 83,
   "id": "659eed25",
   "metadata": {},
   "outputs": [],
   "source": [
    "wd = '/Users/carmen/Library/CloudStorage/OneDrive-TheUniversityofLiverpool/research/RECAST/latin-mobility-covid-local-files'\n",
    "\n",
    "country = 'Colombia'\n",
    "\n",
    "if country=='Argentina':\n",
    "    country_short = 'ARG'\n",
    "    country_code = 'AR'\n",
    "elif country == 'Chile':\n",
    "    country_short = 'CHL'\n",
    "    country_code = 'CL'\n",
    "elif country == 'Colombia':\n",
    "    country_short = 'COL'\n",
    "    country_code = 'CO'"
   ]
  },
  {
   "cell_type": "code",
   "execution_count": 84,
   "id": "ed52b73b",
   "metadata": {},
   "outputs": [],
   "source": [
    "category = 'rdi'"
   ]
  },
  {
   "cell_type": "code",
   "execution_count": 85,
   "id": "b981245a",
   "metadata": {},
   "outputs": [],
   "source": [
    "df_m3o = pd.read_csv(wd + '/data/outputs/' + country_short + '/mov-analysis/by-' + category + '/data_trend_param_m3o.csv')\n",
    "df_m4o = pd.read_csv(wd + '/data/outputs/' + country_short + '/mov-analysis/by-' + category + '/data_trend_param_m4o.csv')\n",
    "df_m5o = pd.read_csv(wd + '/data/outputs/' + country_short + '/mov-analysis/by-' + category + '/data_trend_param_m5o.csv')\n",
    "\n",
    "\n",
    "df_m3o_re = pd.read_csv(wd + '/data/outputs/' + country_short + '/mov-analysis/by-' + category + '/data_trend_param_m3o_re.csv')\n",
    "df_m4o_re = pd.read_csv(wd + '/data/outputs/' + country_short + '/mov-analysis/by-' + category + '/data_trend_param_m4o_re.csv')\n",
    "df_m5o_re = pd.read_csv(wd + '/data/outputs/' + country_short + '/mov-analysis/by-' + category + '/data_trend_param_m5o_re.csv')\n",
    "\n"
   ]
  },
  {
   "cell_type": "code",
   "execution_count": 86,
   "id": "5879727c",
   "metadata": {},
   "outputs": [
    {
     "data": {
      "text/html": [
       "<div>\n",
       "<style scoped>\n",
       "    .dataframe tbody tr th:only-of-type {\n",
       "        vertical-align: middle;\n",
       "    }\n",
       "\n",
       "    .dataframe tbody tr th {\n",
       "        vertical-align: top;\n",
       "    }\n",
       "\n",
       "    .dataframe thead th {\n",
       "        text-align: right;\n",
       "    }\n",
       "</style>\n",
       "<table border=\"1\" class=\"dataframe\">\n",
       "  <thead>\n",
       "    <tr style=\"text-align: right;\">\n",
       "      <th></th>\n",
       "      <th>x</th>\n",
       "    </tr>\n",
       "  </thead>\n",
       "  <tbody>\n",
       "    <tr>\n",
       "      <th>0</th>\n",
       "      <td>3.893365</td>\n",
       "    </tr>\n",
       "    <tr>\n",
       "      <th>1</th>\n",
       "      <td>0.396214</td>\n",
       "    </tr>\n",
       "    <tr>\n",
       "      <th>2</th>\n",
       "      <td>3.556719</td>\n",
       "    </tr>\n",
       "    <tr>\n",
       "      <th>3</th>\n",
       "      <td>2.603816</td>\n",
       "    </tr>\n",
       "    <tr>\n",
       "      <th>4</th>\n",
       "      <td>-3.562013</td>\n",
       "    </tr>\n",
       "    <tr>\n",
       "      <th>5</th>\n",
       "      <td>91.925227</td>\n",
       "    </tr>\n",
       "  </tbody>\n",
       "</table>\n",
       "</div>"
      ],
      "text/plain": [
       "           x\n",
       "0   3.893365\n",
       "1   0.396214\n",
       "2   3.556719\n",
       "3   2.603816\n",
       "4  -3.562013\n",
       "5  91.925227"
      ]
     },
     "execution_count": 86,
     "metadata": {},
     "output_type": "execute_result"
    }
   ],
   "source": [
    "df_m5o"
   ]
  },
  {
   "cell_type": "code",
   "execution_count": 87,
   "id": "5af36ed5",
   "metadata": {},
   "outputs": [
    {
     "data": {
      "text/html": [
       "<div>\n",
       "<style scoped>\n",
       "    .dataframe tbody tr th:only-of-type {\n",
       "        vertical-align: middle;\n",
       "    }\n",
       "\n",
       "    .dataframe tbody tr th {\n",
       "        vertical-align: top;\n",
       "    }\n",
       "\n",
       "    .dataframe thead th {\n",
       "        text-align: right;\n",
       "    }\n",
       "</style>\n",
       "<table border=\"1\" class=\"dataframe\">\n",
       "  <thead>\n",
       "    <tr style=\"text-align: right;\">\n",
       "      <th></th>\n",
       "      <th>estimate</th>\n",
       "      <th>conf.low</th>\n",
       "      <th>conf.high</th>\n",
       "      <th>facet</th>\n",
       "      <th>term</th>\n",
       "      <th>title</th>\n",
       "      <th>reihe</th>\n",
       "      <th>group</th>\n",
       "      <th>p.label</th>\n",
       "      <th>xpos</th>\n",
       "      <th>xmin</th>\n",
       "      <th>xmax</th>\n",
       "    </tr>\n",
       "  </thead>\n",
       "  <tbody>\n",
       "    <tr>\n",
       "      <th>0</th>\n",
       "      <td>-5.270408</td>\n",
       "      <td>-10.805093</td>\n",
       "      <td>0.264277</td>\n",
       "      <td>Of (Intercept)</td>\n",
       "      <td>0</td>\n",
       "      <td>Random effects</td>\n",
       "      <td>1</td>\n",
       "      <td>neg</td>\n",
       "      <td>NaN</td>\n",
       "      <td>1</td>\n",
       "      <td>0.825</td>\n",
       "      <td>1.175</td>\n",
       "    </tr>\n",
       "    <tr>\n",
       "      <th>1</th>\n",
       "      <td>18.401099</td>\n",
       "      <td>12.711241</td>\n",
       "      <td>24.090957</td>\n",
       "      <td>Of (Intercept)</td>\n",
       "      <td>1</td>\n",
       "      <td>Random effects</td>\n",
       "      <td>2</td>\n",
       "      <td>pos</td>\n",
       "      <td>NaN</td>\n",
       "      <td>2</td>\n",
       "      <td>1.825</td>\n",
       "      <td>2.175</td>\n",
       "    </tr>\n",
       "    <tr>\n",
       "      <th>2</th>\n",
       "      <td>-13.123856</td>\n",
       "      <td>-18.730326</td>\n",
       "      <td>-7.517385</td>\n",
       "      <td>Of (Intercept)</td>\n",
       "      <td>2</td>\n",
       "      <td>Random effects</td>\n",
       "      <td>3</td>\n",
       "      <td>neg</td>\n",
       "      <td>NaN</td>\n",
       "      <td>3</td>\n",
       "      <td>2.825</td>\n",
       "      <td>3.175</td>\n",
       "    </tr>\n",
       "    <tr>\n",
       "      <th>3</th>\n",
       "      <td>-0.011066</td>\n",
       "      <td>-0.299744</td>\n",
       "      <td>0.277613</td>\n",
       "      <td>time</td>\n",
       "      <td>0</td>\n",
       "      <td>Random effects</td>\n",
       "      <td>1</td>\n",
       "      <td>neg</td>\n",
       "      <td>NaN</td>\n",
       "      <td>1</td>\n",
       "      <td>0.825</td>\n",
       "      <td>1.175</td>\n",
       "    </tr>\n",
       "    <tr>\n",
       "      <th>4</th>\n",
       "      <td>0.038640</td>\n",
       "      <td>-0.410188</td>\n",
       "      <td>0.487468</td>\n",
       "      <td>time</td>\n",
       "      <td>1</td>\n",
       "      <td>Random effects</td>\n",
       "      <td>2</td>\n",
       "      <td>pos</td>\n",
       "      <td>NaN</td>\n",
       "      <td>2</td>\n",
       "      <td>1.825</td>\n",
       "      <td>2.175</td>\n",
       "    </tr>\n",
       "    <tr>\n",
       "      <th>5</th>\n",
       "      <td>-0.027560</td>\n",
       "      <td>-0.417062</td>\n",
       "      <td>0.361942</td>\n",
       "      <td>time</td>\n",
       "      <td>2</td>\n",
       "      <td>Random effects</td>\n",
       "      <td>3</td>\n",
       "      <td>neg</td>\n",
       "      <td>NaN</td>\n",
       "      <td>3</td>\n",
       "      <td>2.825</td>\n",
       "      <td>3.175</td>\n",
       "    </tr>\n",
       "  </tbody>\n",
       "</table>\n",
       "</div>"
      ],
      "text/plain": [
       "    estimate   conf.low  conf.high           facet  term           title  \\\n",
       "0  -5.270408 -10.805093   0.264277  Of (Intercept)     0  Random effects   \n",
       "1  18.401099  12.711241  24.090957  Of (Intercept)     1  Random effects   \n",
       "2 -13.123856 -18.730326  -7.517385  Of (Intercept)     2  Random effects   \n",
       "3  -0.011066  -0.299744   0.277613            time     0  Random effects   \n",
       "4   0.038640  -0.410188   0.487468            time     1  Random effects   \n",
       "5  -0.027560  -0.417062   0.361942            time     2  Random effects   \n",
       "\n",
       "   reihe group  p.label  xpos   xmin   xmax  \n",
       "0      1   neg      NaN     1  0.825  1.175  \n",
       "1      2   pos      NaN     2  1.825  2.175  \n",
       "2      3   neg      NaN     3  2.825  3.175  \n",
       "3      1   neg      NaN     1  0.825  1.175  \n",
       "4      2   pos      NaN     2  1.825  2.175  \n",
       "5      3   neg      NaN     3  2.825  3.175  "
      ]
     },
     "execution_count": 87,
     "metadata": {},
     "output_type": "execute_result"
    }
   ],
   "source": [
    "df_m5o_re"
   ]
  },
  {
   "cell_type": "code",
   "execution_count": 88,
   "id": "baadbe06",
   "metadata": {
    "scrolled": true
   },
   "outputs": [
    {
     "data": {
      "image/png": "[encoded data removed]",
      "text/plain": [
       "<Figure size 1200x1800 with 2 Axes>"
      ]
     },
     "metadata": {},
     "output_type": "display_data"
    }
   ],
   "source": [
    "fig, (ax1,ax2) = plt.subplots(2, 1, figsize=(12,18))\n",
    "\n",
    "ax1.tick_params(axis = 'both', which = 'both', width = 0, length = 0, color = 'k', labelsize=30, pad=9)\n",
    "\n",
    "left_error = df_m3o_re['estimate'] - df_m3o_re['conf.low'] \n",
    "right_error = df_m3o_re['conf.high'] - df_m3o_re['estimate'] \n",
    "ax1.errorbar(df_m3o_re['estimate'] + df_m3o.loc[0, 'x'], list(df_m3o_re.index+0.1), xerr=[left_error, right_error], fmt='o', linewidth=6, markersize=18, color='lightcoral')\n",
    "ax1.plot([df_m3o.loc[0, 'x'], df_m3o.loc[0, 'x']], [min(list(df_m3o_re.index))-.5, max(list(df_m3o_re.index))+.5], linestyle=':', dashes=(1,.5), linewidth=6, color='lightcoral')\n",
    "\n",
    "df_m5o_re_intercept = df_m5o_re[df_m5o_re['facet'].str.contains('Intercept')].reset_index(drop=True)\n",
    "left_error = df_m5o_re_intercept['estimate'] - df_m5o_re_intercept['conf.low'] \n",
    "right_error = df_m5o_re_intercept['conf.high'] - df_m5o_re_intercept['estimate'] \n",
    "ax1.errorbar(df_m5o_re_intercept['estimate'] + df_m5o.loc[0, 'x'], list(df_m5o_re_intercept.index-0.1), xerr=[left_error, right_error], fmt='o', linewidth=6, markersize=18,  color='darkred')\n",
    "ax1.plot([df_m5o.loc[0, 'x'], df_m5o.loc[0, 'x']], [min(list(df_m5o_re_intercept.index))-.5, max(list(df_m5o_re_intercept.index))+.5], linestyle=':', dashes=(1,.5), linewidth=6, color='darkred')\n",
    "\n",
    "ax1.set_ylim(min(list(df_m5o_re_intercept.index))-0.7, max(list(df_m5o_re_intercept.index))+0.7)\n",
    "ax1.set_yticks(list(df_m5o_re_intercept.index), list(df_m5o_re_intercept.index))\n",
    "\n",
    "ax2.tick_params(axis = 'both', which = 'both', width = 0, length = 0, color = 'k', labelsize=30, pad=9)\n",
    "\n",
    "left_error = df_m4o_re['estimate'] - df_m4o_re['conf.low'] \n",
    "right_error = df_m4o_re['conf.high'] - df_m4o_re['estimate'] \n",
    "ax2.errorbar(df_m4o_re['estimate'] + df_m4o.loc[1, 'x'], list(df_m4o_re.index+0.1), xerr=[left_error, right_error], fmt='o', linewidth=6, markersize=18, color='mediumblue')\n",
    "ax2.plot([df_m4o.loc[1, 'x'], df_m4o.loc[1, 'x']], [min(list(df_m4o_re.index))-.5, max(list(df_m4o_re.index))+.5], linestyle=':', dashes=(1,.5), linewidth=6, color='mediumblue')\n",
    "\n",
    "df_m5o_re_slope = df_m5o_re[df_m5o_re['facet'].str.contains('time')].reset_index(drop=True)\n",
    "left_error = df_m5o_re_slope['estimate'] - df_m5o_re_slope['conf.low'] \n",
    "right_error = df_m5o_re_slope['conf.high'] - df_m5o_re_slope['estimate'] \n",
    "ax2.errorbar(df_m5o_re_slope['estimate'] + df_m5o.loc[1, 'x'], list(df_m5o_re_slope.index-0.1), xerr=[left_error, right_error], fmt='o', linewidth=6, markersize=18, color='darkred')\n",
    "ax2.plot([df_m5o.loc[1, 'x'], df_m5o.loc[1, 'x']], [min(list(df_m5o_re_slope.index))-.5, max(list(df_m5o_re_slope.index))+.5], linestyle=':', dashes=(1,.5), linewidth=6, color='darkred')\n",
    "\n",
    "ax2.set_ylim(min(list(df_m5o_re_intercept.index))-0.7, max(list(df_m5o_re_intercept.index))+0.7)\n",
    "ax2.set_yticks(list(df_m5o_re_slope.index), list(df_m5o_re_slope.index))\n",
    "\n",
    "plt.savefig(wd + '/plots/evolution/models/' + country_short + '_models_re_' + category + '.pdf', bbox_inches = 'tight')\n",
    "\n",
    "plt.show()"
   ]
  },
  {
   "cell_type": "code",
   "execution_count": 89,
   "id": "c070e3cb",
   "metadata": {},
   "outputs": [],
   "source": [
    "intercepts = list(df_m5o_re_intercept['estimate'] + df_m5o.loc[0, 'x'])"
   ]
  },
  {
   "cell_type": "code",
   "execution_count": 90,
   "id": "1806d194",
   "metadata": {},
   "outputs": [],
   "source": [
    "slopes = list(df_m5o_re_slope['estimate'] + df_m5o.loc[1, 'x'])"
   ]
  },
  {
   "cell_type": "code",
   "execution_count": 91,
   "id": "63447248",
   "metadata": {},
   "outputs": [],
   "source": [
    "thresholds = [25, 50, 75, 100]\n",
    "times = []\n",
    "\n",
    "for thr in thresholds:\n",
    "    times_thr = [-(thr/100)*intercepts[i]/slopes[i] for i in range(len(intercepts))]\n",
    "    times.append(times_thr)\n",
    "            "
   ]
  },
  {
   "cell_type": "code",
   "execution_count": 92,
   "id": "4c9d3ffb",
   "metadata": {},
   "outputs": [
    {
     "data": {
      "text/plain": [
       "[[0.8938383649641031, -12.817216266222694, 6.2595824232336925],\n",
       " [1.7876767299282061, -25.634432532445388, 12.519164846467385],\n",
       " [2.681515094892309, -38.45164879866808, 18.778747269701075],\n",
       " [3.5753534598564123, -51.268865064890775, 25.03832969293477]]"
      ]
     },
     "execution_count": 92,
     "metadata": {},
     "output_type": "execute_result"
    }
   ],
   "source": [
    "times"
   ]
  },
  {
   "cell_type": "code",
   "execution_count": 93,
   "id": "c36b9fab",
   "metadata": {},
   "outputs": [
    {
     "data": {
      "text/plain": [
       "[-1.3770425601704304, 22.29446429634035, -9.23049017286935]"
      ]
     },
     "execution_count": 93,
     "metadata": {},
     "output_type": "execute_result"
    }
   ],
   "source": [
    "intercepts"
   ]
  },
  {
   "cell_type": "code",
   "execution_count": null,
   "id": "8a69309b",
   "metadata": {},
   "outputs": [],
   "source": []
  }
 ],
 "metadata": {
  "kernelspec": {
   "display_name": "Python 3 (ipykernel)",
   "language": "python",
   "name": "python3"
  },
  "language_info": {
   "codemirror_mode": {
    "name": "ipython",
    "version": 3
   },
   "file_extension": ".py",
   "mimetype": "text/x-python",
   "name": "python",
   "nbconvert_exporter": "python",
   "pygments_lexer": "ipython3",
   "version": "3.11.5"
  }
 },
 "nbformat": 4,
 "nbformat_minor": 5
}
