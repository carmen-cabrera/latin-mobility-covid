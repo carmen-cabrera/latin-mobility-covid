{
 "cells": [
  {
   "cell_type": "code",
   "execution_count": 1,
   "id": "15aa74b0",
   "metadata": {},
   "outputs": [],
   "source": [
    "import matplotlib.pyplot as plt\n",
    "import numpy as np\n",
    "import math\n",
    "import pandas as pd\n",
    "import statsmodels.api as sm\n",
    "from scipy.special import gamma, loggamma, factorial\n",
    "import scipy.stats\n",
    "from scipy.interpolate import interp1d\n",
    "from matplotlib.ticker import AutoMinorLocator \n",
    "from matplotlib import rc, font_manager\n",
    "from matplotlib.lines import Line2D\n",
    "from matplotlib import colors as mcolors\n",
    "from mycolorpy import colorlist as mcp\n",
    "from matplotlib import legend_handler\n",
    "from mpl_toolkits.axes_grid1 import make_axes_locatable, axes_size\n",
    "import collections\n",
    "import matplotlib\n",
    "import shapely.geometry\n",
    "import shapely.ops \n",
    "from geopy.geocoders import Nominatim\n",
    "import geopandas as gpd\n",
    "import mapclassify\n",
    "import jenkspy\n",
    "import contextily as cx\n",
    "import os\n",
    "import rioxarray as rx\n",
    "import pyreadr\n",
    "from sklearn.preprocessing import StandardScaler\n",
    "from sklearn.cluster import KMeans\n",
    "from sklearn import metrics\n",
    "import plots\n",
    "import seaborn as sns\n",
    "from scipy.signal import savgol_filter  \n",
    "from prophet import Prophet\n",
    "import datetime\n",
    "import warnings\n",
    "warnings.filterwarnings(\"ignore\")"
   ]
  },
  {
   "cell_type": "code",
   "execution_count": 2,
   "id": "ef81261c",
   "metadata": {},
   "outputs": [],
   "source": [
    "wd = os.path.dirname(os.getcwd())"
   ]
  },
  {
   "cell_type": "code",
   "execution_count": 3,
   "id": "1bd8768a",
   "metadata": {},
   "outputs": [],
   "source": [
    "country = \"MEX\"\n",
    "\n",
    "if country == \"ARG\":\n",
    "    country_full = \"argentina\"\n",
    "elif country == \"CHL\":\n",
    "    country_full = \"chile\"\n",
    "elif country == \"COL\":\n",
    "    country_full = \"colombia\"\n",
    "elif country == \"MEX\":\n",
    "    country_full = \"mexico\""
   ]
  },
  {
   "cell_type": "code",
   "execution_count": 4,
   "id": "1deb6c6c",
   "metadata": {},
   "outputs": [],
   "source": [
    "gdf_admin_mov = gpd.read_file(wd + '/data/outputs/' + country + '/gdf_' + country + '_admin_rdi_mov_evo.gpkg')\n",
    "gdf_admin_mov = gdf_admin_mov.sort_values(by = ['rdi'], ascending=True).reset_index(drop=True)"
   ]
  },
  {
   "cell_type": "code",
   "execution_count": 5,
   "id": "4aa813a5",
   "metadata": {},
   "outputs": [],
   "source": [
    "fcst_admins = {}\n",
    "\n",
    "_, _, files = next(os.walk(wd + '/data/outputs/' + country + '/prediction'))\n",
    "file_count = len(files)-1\n",
    "\n",
    "for i in range(file_count):\n",
    "    fcst_admins[str(i)] = pd.read_csv(wd + '/data/outputs/' + country + '/prediction/admin_' + str(i) + '.csv')\n"
   ]
  },
  {
   "cell_type": "code",
   "execution_count": 6,
   "id": "9ad80c5a",
   "metadata": {},
   "outputs": [],
   "source": [
    "date_list = []\n",
    "years = ['2020', '2021', '2022']\n",
    "months = ['01', '02', '03', '04', '05', '06', '07', '08', '09', '10', '11', '12']\n",
    "for year in years:\n",
    "    i = 0\n",
    "    if year == '2020':\n",
    "        i = 3\n",
    "    if year == '2022':\n",
    "        max_month = 3\n",
    "    else:\n",
    "        max_month = 12\n",
    "    while i < max_month:\n",
    "        date_list.append(year + '-' + str(months[i]) + '-01')\n",
    "        i += 1\n",
    "        \n",
    "n_clusters=3\n",
    "clusters_average = {}\n",
    "cluster_indices = np.array_split(np.arange(file_count), n_clusters)\n",
    "for i in range(n_clusters):\n",
    "    cluster_average = []\n",
    "    for j in range(24):\n",
    "        cluster_average.append(np.mean([fcst_admins[str(x)]['yhat'][j] for x in cluster_indices[i]]))\n",
    "    clusters_average[str(i)] = pd.DataFrame({'ds': date_list, 'y': cluster_average}) "
   ]
  },
  {
   "cell_type": "code",
   "execution_count": 7,
   "id": "3e13050f",
   "metadata": {},
   "outputs": [
    {
     "name": "stderr",
     "output_type": "stream",
     "text": [
      "18:31:25 - cmdstanpy - INFO - Chain [1] start processing\n",
      "18:31:31 - cmdstanpy - INFO - Chain [1] done processing\n",
      "18:31:31 - cmdstanpy - INFO - Chain [1] start processing\n",
      "18:31:36 - cmdstanpy - INFO - Chain [1] done processing\n",
      "18:31:36 - cmdstanpy - INFO - Chain [1] start processing\n",
      "18:31:42 - cmdstanpy - INFO - Chain [1] done processing\n"
     ]
    }
   ],
   "source": [
    "fcst_clusters = {}\n",
    "for i in range(n_clusters):\n",
    "    m = Prophet(seasonality_mode='additive', yearly_seasonality=True)\n",
    "#     m.add_regressor('month', standardize=False)\n",
    "#     m.add_regressor('stringency', standardize=True)\n",
    "    m.fit(clusters_average[str(i)])\n",
    "    future = m.make_future_dataframe(periods=12, freq='MS')\n",
    "#     future['month'] = future['ds'].dt.month\n",
    "#     future['stringency'] = stringencies\n",
    "    fcst = m.predict(future)\n",
    "    fcst_clusters[str(i)] = fcst"
   ]
  },
  {
   "cell_type": "code",
   "execution_count": 8,
   "id": "a922154e",
   "metadata": {},
   "outputs": [
    {
     "name": "stdout",
     "output_type": "stream",
     "text": [
      "['2020-01' '2020-02' '2020-03' '2020-04' '2020-05' '2020-06' '2020-07'\n",
      " '2020-08' '2020-09' '2020-10' '2020-11' '2020-12' '2021-01' '2021-02'\n",
      " '2021-03' '2021-04' '2021-05' '2021-06' '2021-07' '2021-08' '2021-09'\n",
      " '2021-10' '2021-11' '2021-12' '2022-01' '2022-02' '2022-03' '2022-04'\n",
      " '2022-05' '2022-06' '2022-07' '2022-08' '2022-09' '2022-10' '2022-11'\n",
      " '2022-12' '2023-01' '2023-02' '2023-03']\n",
      "['2020-04' '2020-05' '2020-06' '2020-07' '2020-08' '2020-09' '2020-10'\n",
      " '2020-11' '2020-12' '2021-01' '2021-02' '2021-03' '2021-04' '2021-05'\n",
      " '2021-06' '2021-07' '2021-08' '2021-09' '2021-10' '2021-11' '2021-12'\n",
      " '2022-01' '2022-02' '2022-03' '2022-04' '2022-05' '2022-06' '2022-07'\n",
      " '2022-08' '2022-09' '2022-10' '2022-11' '2022-12' '2023-01' '2023-02'\n",
      " '2023-03']\n"
     ]
    }
   ],
   "source": [
    "df_stringency = pd.read_csv(\"/Volumes/RECAST/data/covid_stringency/owid-covid-data.csv\")\n",
    "df_stringency = df_stringency[df_stringency['location'] == str(country_full).capitalize()].reset_index(drop=True)\n",
    "df_stringency = df_stringency.filter(['location', 'date', 'stringency_index'], axis=1)\n",
    "df_stringency = df_stringency.fillna(0)\n",
    "df_stringency['monthyear'] = [str(date)[0:7] for date in df_stringency['date']]\n",
    "monthyears = np.unique(df_stringency['monthyear'])\n",
    "\n",
    "print(monthyears)\n",
    "\n",
    "stringencies = []\n",
    "for monthyear in monthyears:\n",
    "    df_stringency_monthyear = df_stringency[df_stringency['monthyear']==monthyear].reset_index(drop=True)\n",
    "    stringencies.append(np.mean(df_stringency_monthyear['stringency_index']))\n",
    "    \n",
    "monthyears = monthyears[3:]\n",
    "stringencies = stringencies[3:]\n",
    "\n",
    "print(monthyears)"
   ]
  },
  {
   "cell_type": "code",
   "execution_count": 10,
   "id": "49730ed3",
   "metadata": {},
   "outputs": [
    {
     "data": {
      "image/png": "[encoded data removed]",
      "text/plain": [
       "<Figure size 800x700 with 1 Axes>"
      ]
     },
     "metadata": {},
     "output_type": "display_data"
    }
   ],
   "source": [
    "fig,ax = plt.subplots(figsize=(8,7))\n",
    "\n",
    "ax.spines['bottom'].set_linewidth(0)\n",
    "ax.spines['top'].set_linewidth(0)\n",
    "ax.spines['left'].set_linewidth(0)\n",
    "ax.spines['right'].set_linewidth(0)\n",
    "\n",
    "ax.tick_params(axis = 'both', which = 'both', width = 0, length = 0, color = 'k', labelsize=20, pad=9)\n",
    "\n",
    "xmin, xmax = -1,36\n",
    "ax.set_xlim([xmin, xmax])\n",
    "# ymin, ymax = -85, 85\n",
    "ymin, ymax = -40, 20\n",
    "ax.set_ylim([ymin, ymax])\n",
    "\n",
    "# xticks = []\n",
    "# xticks_labels = ['April 2020', 'Oct 2020', 'April 2021', 'Oct 2021', 'April 2022']\n",
    "# for i in range(int(xmin), int(xmax)):\n",
    "#     if i%6 == 0:\n",
    "#         xticks.append(i+.25)\n",
    "# ax.set_xticks(xticks, xticks_labels)\n",
    "# ax.tick_params(axis = 'x', bottom=True, labelsize = 15, pad=6, rotation=90)\n",
    "ax.plot([23,23],[ymin,ymax], color='k', lw=1.2, zorder=200, linestyle='--', dashes=(3, 1))\n",
    "    \n",
    "yticks = []\n",
    "for i in range(int(ymin), int(ymax)):\n",
    "    if i%20 == 0:\n",
    "        yticks.append(i)\n",
    "ax.set_yticks(yticks, yticks)\n",
    "for y in yticks:\n",
    "    ax.plot([xmin, xmax],[y,y], color='gray', lw=0.7, zorder=0)\n",
    "ax.tick_params(axis = 'y', labelsize = 20, pad=6, rotation=0)\n",
    "\n",
    "gdf_admin_mov = gdf_admin_mov.sort_values(by = ['rdi'], ascending=True).reset_index(drop=True)\n",
    "\n",
    "n_clusters = 3\n",
    "   \n",
    "viridis = plt.cm.get_cmap('viridis')\n",
    "norm = plt.Normalize(1, n_clusters)\n",
    "\n",
    "x = np.arange(len(fcst_admins['0']))\n",
    "x_obs = x[0:24]\n",
    "x_fcst = x[23:]\n",
    "    \n",
    "for i in range(n_clusters):\n",
    "    color = viridis(norm(i+1)) \n",
    "    y_smooth = pd.DataFrame({'y_smooth': fcst_clusters[str(i)]['yhat']}).apply(savgol_filter,  window_length=4, polyorder=2)\n",
    "    y_obs = y_smooth[0:24]\n",
    "    y_fcst = y_smooth[23:]\n",
    "#     ax.plot(x_obs, y_obs, color=color, zorder=100, lw=6)\n",
    "#     ax.plot(x_fcst, y_fcst, color=color, zorder=100, lw=6, linestyle='--', dashes=(.5, .3))\n",
    "    \n",
    "for i in range(n_clusters):\n",
    "    color = viridis(norm(i+1))\n",
    "    y_smooth_lower_fcst = pd.DataFrame({'y_smooth': fcst_clusters[str(i)]['yhat_lower']}).apply(savgol_filter,  window_length=4, polyorder=2)\n",
    "    y_smooth_lower_fcst = np.array(y_smooth_lower_fcst['y_smooth'])\n",
    "    y_smooth_upper_fcst = pd.DataFrame({'y_smooth': fcst_clusters[str(i)]['yhat_upper']}).apply(savgol_filter,  window_length=4, polyorder=2)\n",
    "    y_smooth_upper_fcst  = np.array(y_smooth_upper_fcst['y_smooth'])\n",
    "    ax.fill_between(x, y_smooth_lower_fcst, y_smooth_upper_fcst, color=color, alpha=0.5, edgecolor=None, linewidth=0, zorder=i+1)\n",
    "    ax.fill_between(x, y_smooth_lower_fcst, y_smooth_upper_fcst, color='None', alpha=1, edgecolor=color, linewidth=.5, zorder=1+2)\n",
    "\n",
    "# for k in range(len(x)):\n",
    "#     try:\n",
    "#         rgba = matplotlib.cm.copper((1-(stringencies[k]-min(stringencies))/max(stringencies))/3*2+1/3)\n",
    "#     except:\n",
    "#         rgba = matplotlib.cm.copper((1-(stringencies[k-1]-min(stringencies))/max(stringencies))/3*2+1/3)\n",
    "#     x = [k-.50, k+.50]\n",
    "#     ax.fill_between(x, 100*np.ones(len(x)), -100*np.ones(len(x)), color=rgba, alpha=0.5, edgecolor='None', linewidth=0, zorder=0)\n",
    "    \n",
    "ax.plot([xmin-1, xmax],[0,0], color='darkgray', lw=2, zorder=0)\n",
    "\n",
    "# plt.savefig(wd + '/plots/figure-prediction-rdi/' + country + '_prediction_by_rdi.pdf', bbox_inches = 'tight')\n",
    "\n",
    "plt.show()"
   ]
  },
  {
   "cell_type": "code",
   "execution_count": 25,
   "id": "5ff5da5d",
   "metadata": {},
   "outputs": [
    {
     "data": {
      "text/plain": [
       "array([-7.18664628,  3.46139959,  2.51451593, -5.03081417, -7.42651656,\n",
       "       -8.2025548 , -0.80090052,  3.37340387,  4.61951683,  1.79366538,\n",
       "       -3.10908682, -5.11010559, -8.24081035])"
      ]
     },
     "execution_count": 25,
     "metadata": {},
     "output_type": "execute_result"
    }
   ],
   "source": [
    "y_smooth_upper_fcst"
   ]
  },
  {
   "cell_type": "code",
   "execution_count": null,
   "id": "599fdac5",
   "metadata": {},
   "outputs": [],
   "source": []
  }
 ],
 "metadata": {
  "kernelspec": {
   "display_name": "Python 3 (ipykernel)",
   "language": "python",
   "name": "python3"
  },
  "language_info": {
   "codemirror_mode": {
    "name": "ipython",
    "version": 3
   },
   "file_extension": ".py",
   "mimetype": "text/x-python",
   "name": "python",
   "nbconvert_exporter": "python",
   "pygments_lexer": "ipython3",
   "version": "3.11.5"
  }
 },
 "nbformat": 4,
 "nbformat_minor": 5
}
