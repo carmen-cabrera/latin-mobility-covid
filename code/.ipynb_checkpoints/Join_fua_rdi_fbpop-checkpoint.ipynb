{
 "cells": [
  {
   "cell_type": "code",
   "execution_count": 79,
   "id": "15aa74b0",
   "metadata": {},
   "outputs": [],
   "source": [
    "import matplotlib.pyplot as plt\n",
    "import numpy as np\n",
    "import math\n",
    "import pandas as pd\n",
    "import statsmodels.api as sm\n",
    "from scipy.special import gamma, loggamma, factorial\n",
    "import scipy.stats\n",
    "from scipy.interpolate import interp1d\n",
    "from matplotlib.ticker import AutoMinorLocator \n",
    "from matplotlib import rc, font_manager\n",
    "from matplotlib.lines import Line2D\n",
    "from matplotlib import colors as mcolors\n",
    "from mycolorpy import colorlist as mcp\n",
    "from matplotlib import legend_handler\n",
    "from mpl_toolkits.axes_grid1 import make_axes_locatable, axes_size\n",
    "import collections\n",
    "import matplotlib\n",
    "import shapely.geometry\n",
    "import shapely.ops \n",
    "from geopy.geocoders import Nominatim\n",
    "import geopandas as gpd\n",
    "import mapclassify\n",
    "import jenkspy\n",
    "import contextily as cx\n",
    "import os\n",
    "import rioxarray as rx\n",
    "import pyreadr\n",
    "from sklearn.preprocessing import StandardScaler\n",
    "from sklearn.cluster import KMeans\n",
    "from sklearn import metrics\n",
    "import plots\n",
    "import seaborn as sns"
   ]
  },
  {
   "cell_type": "code",
   "execution_count": 80,
   "id": "ef81261c",
   "metadata": {},
   "outputs": [],
   "source": [
    "wd = os.path.dirname(os.getcwd())"
   ]
  },
  {
   "cell_type": "code",
   "execution_count": 109,
   "id": "c336b0be",
   "metadata": {},
   "outputs": [],
   "source": [
    "\n",
    "country = 'MEX'\n",
    "\n",
    "if country == 'ARG':\n",
    "    country_full = 'argentina'\n",
    "    capital = 'Buenos Aires'\n",
    "    level = '2'\n",
    "elif country == 'CHL':\n",
    "    country_full = 'chile'\n",
    "    capital = 'Santiago'\n",
    "    level = '3'\n",
    "elif country == 'COL':\n",
    "    country_full = 'colombia'\n",
    "    level = '2'\n",
    "elif country == 'MEX':\n",
    "    country_full = 'mexico'\n",
    "    level = '2'\n",
    "elif country == 'PER':\n",
    "    country_full = 'peru'\n",
    "    level = '3'"
   ]
  },
  {
   "cell_type": "markdown",
   "id": "dfdd858f",
   "metadata": {},
   "source": [
    "# Admin areas with RDI & population Worldpop"
   ]
  },
  {
   "cell_type": "code",
   "execution_count": 110,
   "id": "572aa4f3",
   "metadata": {},
   "outputs": [],
   "source": [
    "gdf_admin = gpd.read_file(wd + '/data/outputs/' + country + '/gdf_' + country + '_admin_fua_rdi.gpkg')\n"
   ]
  },
  {
   "cell_type": "markdown",
   "id": "6a133e9d",
   "metadata": {},
   "source": [
    "# Spatial join: admin areas with Facebook population"
   ]
  },
  {
   "cell_type": "code",
   "execution_count": 123,
   "id": "bade8402",
   "metadata": {},
   "outputs": [],
   "source": [
    "df_fbpop = pyreadr.read_r('/Volumes/RECAST/data/outputs/' + country_full + '/FB_population/2020_09_pop.rds')\n",
    "df_fbpop = df_fbpop[None]\n",
    "\n",
    "# df_fbpop['geometry'] = df_fbpop['geometry'].apply(shapely.wkt.loads)\n",
    "# gdf_fbpop = gpd.GeoDataFrame(df_fbpop, crs='epsg:4326')\n",
    "\n",
    "gdf_fbpop = gpd.GeoDataFrame(df_fbpop, geometry=gpd.points_from_xy(df_fbpop.lon, df_fbpop.lat), crs=\"EPSG:4326\"\n",
    ")\n"
   ]
  },
  {
   "cell_type": "markdown",
   "id": "18a46a73",
   "metadata": {},
   "source": [
    "## Admins"
   ]
  },
  {
   "cell_type": "code",
   "execution_count": 124,
   "id": "3faf315d",
   "metadata": {},
   "outputs": [
    {
     "name": "stderr",
     "output_type": "stream",
     "text": [
      "/var/folders/79/65l52xsj7vq_4_t_l6k5bl2c0000gn/T/ipykernel_29621/3895874122.py:8: FutureWarning: The default value of numeric_only in DataFrameGroupBy.sum is deprecated. In a future version, numeric_only will default to False. Either specify numeric_only or select only columns which should be valid for the function.\n",
      "  gdf_group = gdf_admin_fbpop.groupby(['index']).sum().reset_index(drop=True)\n"
     ]
    },
    {
     "ename": "KeyError",
     "evalue": "'n_crisis'",
     "output_type": "error",
     "traceback": [
      "\u001b[0;31m---------------------------------------------------------------------------\u001b[0m",
      "\u001b[0;31mKeyError\u001b[0m                                  Traceback (most recent call last)",
      "File \u001b[0;32m~/anaconda3/envs/geo-env/lib/python3.10/site-packages/pandas/core/indexes/base.py:3802\u001b[0m, in \u001b[0;36mIndex.get_loc\u001b[0;34m(self, key, method, tolerance)\u001b[0m\n\u001b[1;32m   3801\u001b[0m \u001b[38;5;28;01mtry\u001b[39;00m:\n\u001b[0;32m-> 3802\u001b[0m     \u001b[38;5;28;01mreturn\u001b[39;00m \u001b[38;5;28;43mself\u001b[39;49m\u001b[38;5;241;43m.\u001b[39;49m\u001b[43m_engine\u001b[49m\u001b[38;5;241;43m.\u001b[39;49m\u001b[43mget_loc\u001b[49m\u001b[43m(\u001b[49m\u001b[43mcasted_key\u001b[49m\u001b[43m)\u001b[49m\n\u001b[1;32m   3803\u001b[0m \u001b[38;5;28;01mexcept\u001b[39;00m \u001b[38;5;167;01mKeyError\u001b[39;00m \u001b[38;5;28;01mas\u001b[39;00m err:\n",
      "File \u001b[0;32m~/anaconda3/envs/geo-env/lib/python3.10/site-packages/pandas/_libs/index.pyx:138\u001b[0m, in \u001b[0;36mpandas._libs.index.IndexEngine.get_loc\u001b[0;34m()\u001b[0m\n",
      "File \u001b[0;32m~/anaconda3/envs/geo-env/lib/python3.10/site-packages/pandas/_libs/index.pyx:165\u001b[0m, in \u001b[0;36mpandas._libs.index.IndexEngine.get_loc\u001b[0;34m()\u001b[0m\n",
      "File \u001b[0;32mpandas/_libs/hashtable_class_helper.pxi:5745\u001b[0m, in \u001b[0;36mpandas._libs.hashtable.PyObjectHashTable.get_item\u001b[0;34m()\u001b[0m\n",
      "File \u001b[0;32mpandas/_libs/hashtable_class_helper.pxi:5753\u001b[0m, in \u001b[0;36mpandas._libs.hashtable.PyObjectHashTable.get_item\u001b[0;34m()\u001b[0m\n",
      "\u001b[0;31mKeyError\u001b[0m: 'n_crisis'",
      "\nThe above exception was the direct cause of the following exception:\n",
      "\u001b[0;31mKeyError\u001b[0m                                  Traceback (most recent call last)",
      "Cell \u001b[0;32mIn[124], line 10\u001b[0m\n\u001b[1;32m      6\u001b[0m gdf_admin_fbpop[\u001b[38;5;124m'\u001b[39m\u001b[38;5;124mindex\u001b[39m\u001b[38;5;124m'\u001b[39m] \u001b[38;5;241m=\u001b[39m gdf_admin_fbpop\u001b[38;5;241m.\u001b[39mindex\n\u001b[1;32m      8\u001b[0m gdf_group \u001b[38;5;241m=\u001b[39m gdf_admin_fbpop\u001b[38;5;241m.\u001b[39mgroupby([\u001b[38;5;124m'\u001b[39m\u001b[38;5;124mindex\u001b[39m\u001b[38;5;124m'\u001b[39m])\u001b[38;5;241m.\u001b[39msum()\u001b[38;5;241m.\u001b[39mreset_index(drop\u001b[38;5;241m=\u001b[39m\u001b[38;5;28;01mTrue\u001b[39;00m)\n\u001b[0;32m---> 10\u001b[0m gdf_admin_join[\u001b[38;5;124m'\u001b[39m\u001b[38;5;124mn_crisis\u001b[39m\u001b[38;5;124m'\u001b[39m] \u001b[38;5;241m=\u001b[39m \u001b[43mgdf_group\u001b[49m\u001b[43m[\u001b[49m\u001b[38;5;124;43m'\u001b[39;49m\u001b[38;5;124;43mn_crisis\u001b[39;49m\u001b[38;5;124;43m'\u001b[39;49m\u001b[43m]\u001b[49m\u001b[38;5;241m/\u001b[39m(\u001b[38;5;241m30\u001b[39m\u001b[38;5;241m*\u001b[39m\u001b[38;5;241m3\u001b[39m)\n\u001b[1;32m     11\u001b[0m gdf_admin_join[\u001b[38;5;124m'\u001b[39m\u001b[38;5;124mn_baseline\u001b[39m\u001b[38;5;124m'\u001b[39m] \u001b[38;5;241m=\u001b[39m gdf_group[\u001b[38;5;124m'\u001b[39m\u001b[38;5;124mn_baseline\u001b[39m\u001b[38;5;124m'\u001b[39m]\u001b[38;5;241m/\u001b[39m(\u001b[38;5;241m30\u001b[39m\u001b[38;5;241m*\u001b[39m\u001b[38;5;241m3\u001b[39m)\n\u001b[1;32m     12\u001b[0m gdf_admin_join[\u001b[38;5;124m'\u001b[39m\u001b[38;5;124mperchange\u001b[39m\u001b[38;5;124m'\u001b[39m] \u001b[38;5;241m=\u001b[39m (gdf_admin_join[\u001b[38;5;124m'\u001b[39m\u001b[38;5;124mn_crisis\u001b[39m\u001b[38;5;124m'\u001b[39m]\u001b[38;5;241m-\u001b[39mgdf_admin_join[\u001b[38;5;124m'\u001b[39m\u001b[38;5;124mn_baseline\u001b[39m\u001b[38;5;124m'\u001b[39m])\u001b[38;5;241m/\u001b[39mgdf_admin_join[\u001b[38;5;124m'\u001b[39m\u001b[38;5;124mn_baseline\u001b[39m\u001b[38;5;124m'\u001b[39m]\u001b[38;5;241m*\u001b[39m\u001b[38;5;241m100\u001b[39m\n",
      "File \u001b[0;32m~/anaconda3/envs/geo-env/lib/python3.10/site-packages/pandas/core/frame.py:3807\u001b[0m, in \u001b[0;36mDataFrame.__getitem__\u001b[0;34m(self, key)\u001b[0m\n\u001b[1;32m   3805\u001b[0m \u001b[38;5;28;01mif\u001b[39;00m \u001b[38;5;28mself\u001b[39m\u001b[38;5;241m.\u001b[39mcolumns\u001b[38;5;241m.\u001b[39mnlevels \u001b[38;5;241m>\u001b[39m \u001b[38;5;241m1\u001b[39m:\n\u001b[1;32m   3806\u001b[0m     \u001b[38;5;28;01mreturn\u001b[39;00m \u001b[38;5;28mself\u001b[39m\u001b[38;5;241m.\u001b[39m_getitem_multilevel(key)\n\u001b[0;32m-> 3807\u001b[0m indexer \u001b[38;5;241m=\u001b[39m \u001b[38;5;28;43mself\u001b[39;49m\u001b[38;5;241;43m.\u001b[39;49m\u001b[43mcolumns\u001b[49m\u001b[38;5;241;43m.\u001b[39;49m\u001b[43mget_loc\u001b[49m\u001b[43m(\u001b[49m\u001b[43mkey\u001b[49m\u001b[43m)\u001b[49m\n\u001b[1;32m   3808\u001b[0m \u001b[38;5;28;01mif\u001b[39;00m is_integer(indexer):\n\u001b[1;32m   3809\u001b[0m     indexer \u001b[38;5;241m=\u001b[39m [indexer]\n",
      "File \u001b[0;32m~/anaconda3/envs/geo-env/lib/python3.10/site-packages/pandas/core/indexes/base.py:3804\u001b[0m, in \u001b[0;36mIndex.get_loc\u001b[0;34m(self, key, method, tolerance)\u001b[0m\n\u001b[1;32m   3802\u001b[0m     \u001b[38;5;28;01mreturn\u001b[39;00m \u001b[38;5;28mself\u001b[39m\u001b[38;5;241m.\u001b[39m_engine\u001b[38;5;241m.\u001b[39mget_loc(casted_key)\n\u001b[1;32m   3803\u001b[0m \u001b[38;5;28;01mexcept\u001b[39;00m \u001b[38;5;167;01mKeyError\u001b[39;00m \u001b[38;5;28;01mas\u001b[39;00m err:\n\u001b[0;32m-> 3804\u001b[0m     \u001b[38;5;28;01mraise\u001b[39;00m \u001b[38;5;167;01mKeyError\u001b[39;00m(key) \u001b[38;5;28;01mfrom\u001b[39;00m \u001b[38;5;21;01merr\u001b[39;00m\n\u001b[1;32m   3805\u001b[0m \u001b[38;5;28;01mexcept\u001b[39;00m \u001b[38;5;167;01mTypeError\u001b[39;00m:\n\u001b[1;32m   3806\u001b[0m     \u001b[38;5;66;03m# If we have a listlike key, _check_indexing_error will raise\u001b[39;00m\n\u001b[1;32m   3807\u001b[0m     \u001b[38;5;66;03m#  InvalidIndexError. Otherwise we fall through and re-raise\u001b[39;00m\n\u001b[1;32m   3808\u001b[0m     \u001b[38;5;66;03m#  the TypeError.\u001b[39;00m\n\u001b[1;32m   3809\u001b[0m     \u001b[38;5;28mself\u001b[39m\u001b[38;5;241m.\u001b[39m_check_indexing_error(key)\n",
      "\u001b[0;31mKeyError\u001b[0m: 'n_crisis'"
     ]
    }
   ],
   "source": [
    "\n",
    "gdf_admin_join = gdf_admin\n",
    "\n",
    "gdf_fbpop_join = gdf_fbpop\n",
    "gdf_admin_fbpop = gdf_admin_join.sjoin(gdf_fbpop_join, how=\"left\", predicate='intersects')\n",
    "\n",
    "gdf_admin_fbpop['index'] = gdf_admin_fbpop.index\n",
    "\n",
    "gdf_group = gdf_admin_fbpop.groupby(['index']).sum().reset_index(drop=True)\n",
    "\n",
    "gdf_admin_join['n_crisis'] = gdf_group['n_crisis']/(30*3)\n",
    "gdf_admin_join['n_baseline'] = gdf_group['n_baseline']/(30*3)\n",
    "gdf_admin_join['perchange'] = (gdf_admin_join['n_crisis']-gdf_admin_join['n_baseline'])/gdf_admin_join['n_baseline']*100\n",
    "gdf_admin_fbpop = gdf_admin_join\n",
    "\n",
    "\n",
    "gdf_admin_fbpop['representativiness'] = gdf_admin_fbpop['n_baseline']/gdf_admin_fbpop['pop2020']*100\n",
    "\n",
    "# gdf_admin_fua_rdi_c_mov.to_file(wd + '/data/outputs/' + country + '/gdf_' + country + '_admin_fua_mov_2022_03.gpkg')\n"
   ]
  },
  {
   "cell_type": "code",
   "execution_count": null,
   "id": "9cf5579a",
   "metadata": {},
   "outputs": [],
   "source": [
    "plt.scatter(gdf_admin_fbpop['rdi'], gdf_admin_fbpop['representativiness'])"
   ]
  },
  {
   "cell_type": "code",
   "execution_count": null,
   "id": "387df98c",
   "metadata": {},
   "outputs": [],
   "source": [
    "print([x for x in gdf_admin_fbpop.sort_values(by=['representativiness'], ascending=False)['eFUA_name'][0:30]])"
   ]
  },
  {
   "cell_type": "code",
   "execution_count": null,
   "id": "50d963c1",
   "metadata": {},
   "outputs": [],
   "source": [
    "gdf_admin_fbpop.sort_values(by=['representativiness'], ascending=False)"
   ]
  },
  {
   "cell_type": "code",
   "execution_count": null,
   "id": "da5ca136",
   "metadata": {},
   "outputs": [],
   "source": [
    "gdf_fbpop"
   ]
  },
  {
   "cell_type": "code",
   "execution_count": null,
   "id": "ba68b743",
   "metadata": {},
   "outputs": [],
   "source": [
    "gdf_admin_mov = gpd.read_file(wd + '/data/outputs/MEX/gdf_MEX_admin_fua_mov_2020_04.gpkg')\n"
   ]
  },
  {
   "cell_type": "code",
   "execution_count": null,
   "id": "f2a90880",
   "metadata": {},
   "outputs": [],
   "source": [
    "gdf_admin_mov"
   ]
  },
  {
   "cell_type": "code",
   "execution_count": null,
   "id": "81a4d86a",
   "metadata": {},
   "outputs": [],
   "source": []
  }
 ],
 "metadata": {
  "kernelspec": {
   "display_name": "Python 3 (ipykernel)",
   "language": "python",
   "name": "python3"
  },
  "language_info": {
   "codemirror_mode": {
    "name": "ipython",
    "version": 3
   },
   "file_extension": ".py",
   "mimetype": "text/x-python",
   "name": "python",
   "nbconvert_exporter": "python",
   "pygments_lexer": "ipython3",
   "version": "3.10.9"
  }
 },
 "nbformat": 4,
 "nbformat_minor": 5
}
