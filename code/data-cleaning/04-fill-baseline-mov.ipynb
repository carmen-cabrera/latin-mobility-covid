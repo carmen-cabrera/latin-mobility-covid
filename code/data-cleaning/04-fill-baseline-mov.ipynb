{
 "cells": [
  {
   "cell_type": "markdown",
   "id": "cb7b25c9",
   "metadata": {},
   "source": [
    "# Imports"
   ]
  },
  {
   "cell_type": "code",
   "execution_count": null,
   "id": "3d93d02b",
   "metadata": {},
   "outputs": [],
   "source": [
    "import pandas as pd\n",
    "import os\n",
    "from datetime import datetime"
   ]
  },
  {
   "cell_type": "markdown",
   "id": "0671d8ad",
   "metadata": {},
   "source": [
    "# Define country and parameters"
   ]
  },
  {
   "cell_type": "code",
   "execution_count": null,
   "id": "6b3e126c",
   "metadata": {},
   "outputs": [],
   "source": [
    "# Select target country\n",
    "country = 'Colombia'\n",
    "\n",
    "# Set country-specific parameters: ISO codes and buffer size (in meters)\n",
    "if country == 'Argentina':\n",
    "    country_short = 'ARG'   # ISO 3-letter code\n",
    "    country_code = 'AR'     # ISO 2-letter code\n",
    "elif country == 'Chile':\n",
    "    country_short = 'CHL'\n",
    "    country_code = 'CL'\n",
    "elif country == 'Colombia':\n",
    "    country_short = 'COL'\n",
    "    country_code = 'CO'\n",
    "# Uncomment the following if Mexico is to be included in the analysis\n",
    "# elif country == 'Mexico':\n",
    "#     country_short = 'MEX'\n",
    "#     country_code = 'MX'"
   ]
  },
  {
   "cell_type": "markdown",
   "id": "fbc57acf",
   "metadata": {},
   "source": [
    "# Set working directory"
   ]
  },
  {
   "cell_type": "code",
   "execution_count": null,
   "id": "9a891fd9",
   "metadata": {},
   "outputs": [],
   "source": [
    "# Define working directory path\n",
    "\n",
    "wd = (\n",
    "    '/Users/carmen/Library/CloudStorage/OneDrive-TheUniversityofLiverpool/'\n",
    "    'Research/RECAST/latin-mobility-covid-local-files/data/outputs/' + country_short \n",
    ")"
   ]
  },
  {
   "cell_type": "markdown",
   "id": "5f982809",
   "metadata": {},
   "source": [
    "# Initialise baseline movement data"
   ]
  },
  {
   "cell_type": "code",
   "execution_count": null,
   "id": "b157d330",
   "metadata": {},
   "outputs": [],
   "source": [
    "# Days of the week are coded according to the `datetime` library (0 = Monday, 6 = Sunday)\n",
    "\n",
    "### ONLY UNCOMMENT THE LINES BELOW TO FILL IN BASELINE DATAFRAME FROM SCRATCH!!\n",
    "\n",
    "# # Initialise an empty DataFrame for baseline movements\n",
    "# # 'O' and 'D' represent origin and destination IDs respectively\n",
    "# # Columns '0' through '6' correspond to days of the week (Monday=0, Sunday=6)\n",
    "# df_bl = pd.DataFrame({\n",
    "#     'O': [],  # Origin ID\n",
    "#     'D': [],  # Destination ID\n",
    "#     '0': [],  # Monday\n",
    "#     '1': [],  # Tuesday\n",
    "#     '2': [],  # Wednesday\n",
    "#     '3': [],  # Thursday\n",
    "#     '4': [],  # Friday\n",
    "#     '5': [],  # Saturday\n",
    "#     '6': []   # Sunday\n",
    "# })\n",
    "\n",
    "# # Save the empty baseline movements DataFrame to CSV\n",
    "# df_bl.to_csv(wd + '/baseline/baseline_mov.csv', index=False)\n",
    "\n",
    "# # Create or overwrite a counter file to track processing progress\n",
    "# filename = wd + '/baseline/counter_mov.txt'\n",
    "# with open(filename, 'w') as file:\n",
    "#     file.write(str(0))\n",
    "\n"
   ]
  },
  {
   "cell_type": "markdown",
   "id": "8fadd62a",
   "metadata": {},
   "source": [
    "# Update baseline population data using daily files"
   ]
  },
  {
   "cell_type": "code",
   "execution_count": null,
   "id": "e3ed4d52",
   "metadata": {},
   "outputs": [],
   "source": [
    "# This cell:\n",
    "# - Loads the index from 'counter_mov.txt' to resume processing movement data\n",
    "# - Lists and iterates through daily movement files in the '/mov/' directory\n",
    "# - For each file, updates the baseline movement DataFrame with counts per origin-destination (O-D) pair and day of the week\n",
    "# - Writes progress (current file index) to 'counter_mov.txt' after processing each file\n",
    "# - Saves the updated baseline movements to 'baseline_mov.csv'\n",
    "\n",
    "# Read the index to resume processing from the last processed file\n",
    "filename = wd + '/baseline/counter_mov.txt'\n",
    "with open(filename, 'r') as file:\n",
    "    start_i = file.read()\n",
    "print(f\"Resuming from file index: {start_i}\")\n",
    "\n",
    "# Load the existing baseline movements DataFrame\n",
    "df_bl = pd.read_csv(wd + '/baseline/baseline_mov.csv')\n",
    "\n",
    "# List and sort movement files in the 'mov' directory, excluding hidden files\n",
    "files = sorted(os.listdir(wd + '/mov/'))\n",
    "files = [file for file in files if not file.startswith('.')]\n",
    "\n",
    "# Loop over files starting from the saved index\n",
    "for i in range(int(start_i), len(files)):\n",
    "    \n",
    "    if i % 20 == 0:\n",
    "        print(f\"Progress: {i / len(files) * 100:.2f}%\")\n",
    "    \n",
    "    # Reload baseline movements dataframe to keep it up to date in each iteration\n",
    "    df_bl = pd.read_csv(wd + '/baseline/baseline_mov.csv')\n",
    "\n",
    "    file = files[i]\n",
    "    df_movs = pd.read_csv(wd + '/mov/' + file, index_col=0)\n",
    "\n",
    "    # Filter out records without valid start or end IDs\n",
    "    df_movs_bl = df_movs.dropna(subset=['start_FID', 'end_FID']).reset_index(drop=True)\n",
    "    # Optional filtering on movement length can be done here:\n",
    "    # df_movs_bl = df_movs_bl[df_movs_bl['length_km'] < 70].reset_index(drop=True)\n",
    "\n",
    "    # Extract weekday from filename (expects date in format YYYY-MM-DD)\n",
    "    wday = datetime.strptime(file[-19:-9], \"%Y-%m-%d\").weekday()\n",
    "\n",
    "    # Iterate through all movement records in the file\n",
    "    for j in range(len(df_movs_bl)):\n",
    "\n",
    "        O = int(df_movs_bl.loc[j, 'start_FID'])  # Origin ID\n",
    "        D = int(df_movs_bl.loc[j, 'end_FID'])    # Destination ID\n",
    "\n",
    "        # Select existing row for this origin-destination pair\n",
    "        df_bl_t = df_bl[(df_bl['O'] == O) & (df_bl['D'] == D)]\n",
    "\n",
    "        value = df_movs_bl.loc[j, 'n_baseline']  # Baseline value for this movement\n",
    "\n",
    "        # If this origin-destination pair is not in baseline, add new row\n",
    "        if len(df_bl_t) == 0:\n",
    "            row = [O, D] + [-999 if k != wday else value for k in range(7)]\n",
    "            df_bl.loc[len(df_bl)] = row\n",
    "\n",
    "        # If row exists, update baseline for the weekday if not already set\n",
    "        else:\n",
    "            if len(df_bl_t.index) == 1:\n",
    "                idx = df_bl_t.index[0]\n",
    "                if df_bl.loc[idx, str(wday)] <= 0:\n",
    "                    df_bl.loc[idx, str(wday)] = value\n",
    "            else:\n",
    "                print(f\"Warning: Multiple baseline rows for O={O}, D={D}\")\n",
    "\n",
    "    # Update the progress counter file after processing each file\n",
    "    with open(wd + '/baseline/counter_mov.txt', 'w') as file:\n",
    "        file.write(str(i))\n",
    "\n",
    "    # Save the updated baseline movements DataFrame to CSV\n",
    "    df_bl.to_csv(wd + '/baseline/baseline_mov.csv', index=False)\n"
   ]
  }
 ],
 "metadata": {
  "kernelspec": {
   "display_name": "Python 3 (ipykernel)",
   "language": "python",
   "name": "python3"
  },
  "language_info": {
   "codemirror_mode": {
    "name": "ipython",
    "version": 3
   },
   "file_extension": ".py",
   "mimetype": "text/x-python",
   "name": "python",
   "nbconvert_exporter": "python",
   "pygments_lexer": "ipython3",
   "version": "3.10.9"
  }
 },
 "nbformat": 4,
 "nbformat_minor": 5
}
