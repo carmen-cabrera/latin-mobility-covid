{
 "cells": [
  {
   "cell_type": "markdown",
   "id": "96bea6b0",
   "metadata": {},
   "source": [
    "# Imports"
   ]
  },
  {
   "cell_type": "code",
   "execution_count": null,
   "id": "3d93d02b",
   "metadata": {},
   "outputs": [],
   "source": [
    "import os              \n",
    "import pandas as pd  "
   ]
  },
  {
   "cell_type": "markdown",
   "id": "3fa5da3d",
   "metadata": {},
   "source": [
    "# Define country and parameters"
   ]
  },
  {
   "cell_type": "code",
   "execution_count": null,
   "id": "88a3a1ad",
   "metadata": {},
   "outputs": [],
   "source": [
    "# Select target country\n",
    "country = 'Colombia'\n",
    "\n",
    "# Set country-specific parameters: ISO codes and buffer size (in meters)\n",
    "if country == 'Argentina':\n",
    "    country_short = 'ARG'   # ISO 3-letter code\n",
    "    country_code = 'AR'     # ISO 2-letter code\n",
    "elif country == 'Chile':\n",
    "    country_short = 'CHL'\n",
    "    country_code = 'CL'\n",
    "elif country == 'Colombia':\n",
    "    country_short = 'COL'\n",
    "    country_code = 'CO'\n",
    "# Uncomment the following if Mexico is to be included in the analysis\n",
    "# elif country == 'Mexico':\n",
    "#     country_short = 'MEX'\n",
    "#     country_code = 'MX'"
   ]
  },
  {
   "cell_type": "markdown",
   "id": "4abcaf82",
   "metadata": {},
   "source": [
    "# Set working directory"
   ]
  },
  {
   "cell_type": "code",
   "execution_count": null,
   "id": "c0f6adc7",
   "metadata": {},
   "outputs": [],
   "source": [
    "# Define working directory path\n",
    "wd = (\n",
    "    '/Users/carmen/Library/CloudStorage/OneDrive-TheUniversityofLiverpool/'\n",
    "    'research/recast/latin-mobility-covid-local-files'\n",
    ")"
   ]
  },
  {
   "cell_type": "markdown",
   "id": "4ffcdac2",
   "metadata": {},
   "source": [
    "# Baseline Facebook population"
   ]
  },
  {
   "cell_type": "code",
   "execution_count": null,
   "id": "da28faf7",
   "metadata": {},
   "outputs": [],
   "source": [
    "df_bl = pd.read_csv(\n",
    "    os.path.join(wd, 'data', 'outputs', country_short, 'baseline', 'baseline_pop.csv')\n",
    ")\n",
    "\n",
    "present = 0\n",
    "incomplete = 0\n",
    "missing = 0\n",
    "total = 0\n",
    "\n",
    "for i in range(6):\n",
    "    col = str(i)\n",
    "    present += len(df_bl[df_bl[col] > 0])\n",
    "    incomplete += len(df_bl[df_bl[col] == -999])\n",
    "    total += len(df_bl)\n",
    "    missing += len(df_bl) - len(df_bl[df_bl[col] > 0]) - len(df_bl[df_bl[col] == -999])\n",
    "\n",
    "print(present, total, total - present, (total - present) / total * 100)"
   ]
  },
  {
   "cell_type": "markdown",
   "id": "1ad0ead0",
   "metadata": {},
   "source": [
    "# Baseline Facebook movement"
   ]
  },
  {
   "cell_type": "code",
   "execution_count": null,
   "id": "a4d22849",
   "metadata": {},
   "outputs": [],
   "source": [
    "df_bl = pd.read_csv(\n",
    "    os.path.join(wd, 'data', 'outputs', country_short, 'baseline', 'baseline_mov.csv')\n",
    ")\n",
    "\n",
    "present = 0\n",
    "incomplete = 0\n",
    "missing = 0\n",
    "total = 0\n",
    "\n",
    "# Loop over columns '0' to '5' (as strings)\n",
    "for i in range(6):\n",
    "    col = str(i)\n",
    "    present += len(df_bl[df_bl[col] > 0])\n",
    "    incomplete += len(df_bl[df_bl[col] == -999])\n",
    "    total += len(df_bl)\n",
    "    missing += len(df_bl) - len(df_bl[df_bl[col] > 0]) - len(df_bl[df_bl[col] == -999])\n",
    "\n",
    "print(present, total, total - present, (total - present) / total * 100)"
   ]
  },
  {
   "cell_type": "markdown",
   "id": "db691d23",
   "metadata": {},
   "source": [
    "# Crisis Facebook population"
   ]
  },
  {
   "cell_type": "code",
   "execution_count": null,
   "id": "62d14e47",
   "metadata": {},
   "outputs": [],
   "source": [
    "# Load CSV and drop unnecessary column\n",
    "file_path = os.path.join(\n",
    "    wd, 'data', 'outputs', country_short, 'evo', 'pop_evo_popcell_raw.csv'\n",
    ")\n",
    "df_cr = pd.read_csv(file_path).drop(columns=['Unnamed: 0'])\n",
    "\n",
    "present = 0\n",
    "incomplete = 0\n",
    "missing = 0\n",
    "total = 0\n",
    "\n",
    "# Iterate through all columns except the first one\n",
    "for column in df_cr.columns[1:]:\n",
    "    present += len(df_cr[df_cr[column] > 0])\n",
    "    incomplete += len(df_cr[df_cr[column] == -999])\n",
    "    total += len(df_cr)\n",
    "    missing += (\n",
    "        len(df_cr)\n",
    "        - len(df_cr[df_cr[column] > 0])\n",
    "        - len(df_cr[df_cr[column] == -999])\n",
    "    )\n",
    "\n",
    "print(present, total, total - present, (total - present) / total * 100)"
   ]
  },
  {
   "cell_type": "markdown",
   "id": "c049f8cd",
   "metadata": {},
   "source": [
    "# Crisis Facebook movement"
   ]
  },
  {
   "cell_type": "code",
   "execution_count": null,
   "id": "c748a7f8",
   "metadata": {},
   "outputs": [],
   "source": [
    "# Load the CSV file and drop the unnecessary column\n",
    "file_path = os.path.join(\n",
    "    wd, 'data', 'outputs', country_short, 'evo', 'mov_evo_dist_raw.csv'\n",
    ")\n",
    "df_cr = pd.read_csv(file_path).drop(columns=['Unnamed: 0'])\n",
    "\n",
    "present = 0\n",
    "incomplete = 0\n",
    "missing = 0\n",
    "total = 0\n",
    "\n",
    "# Iterate over columns starting from the third one\n",
    "for column in df_cr.columns[2:]:\n",
    "    present += len(df_cr[df_cr[column] > 0])\n",
    "    incomplete += len(df_cr[df_cr[column] == -999])\n",
    "    total += len(df_cr)\n",
    "    missing += (\n",
    "        len(df_cr)\n",
    "        - len(df_cr[df_cr[column] > 0])\n",
    "        - len(df_cr[df_cr[column] == -999])\n",
    "    )\n",
    "\n",
    "print(present, total, total - present, (total - present) / total * 100)"
   ]
  }
 ],
 "metadata": {
  "kernelspec": {
   "display_name": "Python 3 (ipykernel)",
   "language": "python",
   "name": "python3"
  },
  "language_info": {
   "codemirror_mode": {
    "name": "ipython",
    "version": 3
   },
   "file_extension": ".py",
   "mimetype": "text/x-python",
   "name": "python",
   "nbconvert_exporter": "python",
   "pygments_lexer": "ipython3",
   "version": "3.10.9"
  }
 },
 "nbformat": 4,
 "nbformat_minor": 5
}
