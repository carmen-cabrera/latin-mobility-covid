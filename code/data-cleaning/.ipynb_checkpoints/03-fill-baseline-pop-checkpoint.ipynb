{
 "cells": [
  {
   "cell_type": "markdown",
   "id": "ebe6d17a",
   "metadata": {},
   "source": [
    "# Imports"
   ]
  },
  {
   "cell_type": "code",
   "execution_count": null,
   "id": "3d93d02b",
   "metadata": {},
   "outputs": [],
   "source": [
    "import os\n",
    "import pandas as pd\n",
    "import numpy as np\n",
    "from datetime import datetime"
   ]
  },
  {
   "cell_type": "markdown",
   "id": "68e1a67d",
   "metadata": {},
   "source": [
    "# Define country and parameters"
   ]
  },
  {
   "cell_type": "code",
   "execution_count": null,
   "id": "f7e3f8aa",
   "metadata": {},
   "outputs": [],
   "source": [
    "# Select target country\n",
    "country = 'Colombia'\n",
    "\n",
    "# Set country-specific parameters: ISO codes and buffer size (in meters)\n",
    "if country == 'Argentina':\n",
    "    country_short = 'ARG'   # ISO 3-letter code\n",
    "    country_code = 'AR'     # ISO 2-letter code\n",
    "elif country == 'Chile':\n",
    "    country_short = 'CHL'\n",
    "    country_code = 'CL'\n",
    "elif country == 'Colombia':\n",
    "    country_short = 'COL'\n",
    "    country_code = 'CO'\n",
    "# Uncomment the following if Mexico is to be included in the analysis\n",
    "# elif country == 'Mexico':\n",
    "#     country_short = 'MEX'\n",
    "#     country_code = 'MX'"
   ]
  },
  {
   "cell_type": "markdown",
   "id": "a22523ee",
   "metadata": {},
   "source": [
    "# Set working directory"
   ]
  },
  {
   "cell_type": "code",
   "execution_count": null,
   "id": "a8f69533",
   "metadata": {},
   "outputs": [],
   "source": [
    "# Define working directory path\n",
    "wd = (\n",
    "    '/Users/carmen/Library/CloudStorage/OneDrive-TheUniversityofLiverpool/'\n",
    "    'research/recast/latin-mobility-covid-local-files'\n",
    ")"
   ]
  },
  {
   "cell_type": "markdown",
   "id": "b1aa8850",
   "metadata": {},
   "source": [
    "# Initialise baseline population data"
   ]
  },
  {
   "cell_type": "code",
   "execution_count": null,
   "id": "62d14e47",
   "metadata": {},
   "outputs": [],
   "source": [
    "# Days of the week are coded according to the `datetime` library (0 = Monday, 6 = Sunday)\n",
    "\n",
    "### ONLY UNCOMMENT THE LINES BELOW TO FILL IN BASELINE DATAFRAME FROM SCRATCH!!\n",
    "\n",
    "# # Initialise an empty baseline population DataFrame with columns for each day of the week\n",
    "# df_bl = pd.DataFrame({\n",
    "#     'FID': [],  # Feature ID\n",
    "#     '0': [],    # Monday\n",
    "#     '1': [],    # Tuesday\n",
    "#     '2': [],    # Wednesday\n",
    "#     '3': [],    # Thursday\n",
    "#     '4': [],    # Friday\n",
    "#     '5': [],    # Saturday\n",
    "#     '6': []     # Sunday\n",
    "# })\n",
    "\n",
    "# # Save the empty baseline DataFrame to the local working directory\n",
    "# df_bl.to_csv(wd + '/baseline/baseline_pop.csv', index=False)\n",
    "\n",
    "# # Create or overwrite the counter file used to track progress in processing\n",
    "# filename = wd + '/baseline/counter_pop.txt'\n",
    "# with open(filename, 'w') as file:\n",
    "#     file.write(str(0))\n"
   ]
  },
  {
   "cell_type": "markdown",
   "id": "70b875c1",
   "metadata": {},
   "source": [
    "# Update baseline population data using daily files"
   ]
  },
  {
   "cell_type": "code",
   "execution_count": null,
   "id": "e3ed4d52",
   "metadata": {},
   "outputs": [],
   "source": [
    "# This cell:\n",
    "# - Loads the index from 'counter_pop.txt' to resume processing\n",
    "# - Iterates through daily population files in '/pop/'\n",
    "# - Updates the baseline DataFrame for each FID and day of the week\n",
    "# - Writes progress to 'counter_pop.txt' after each file\n",
    "# - Saves the updated baseline to 'baseline_pop.csv'\n",
    "\n",
    "\n",
    "# Load the index to resume processing from the last file processed\n",
    "filename = wd + '/baseline/counter_pop.txt'\n",
    "with open(filename, 'r') as file:\n",
    "    start_i = file.read()\n",
    "print(start_i)\n",
    "\n",
    "# Load existing baseline population data\n",
    "df_bl = pd.read_csv(wd + '/baseline/baseline_pop.csv')\n",
    "\n",
    "# List and sort all files in the 'pop' subdirectory of the working directory\n",
    "files = sorted(os.listdir(wd + '/pop/'))\n",
    "\n",
    "# Filter out hidden files (e.g., .DS_Store or other dotfiles)\n",
    "files = [file for file in files if not file.startswith('.')]\n",
    "\n",
    "# Loop through the population files starting from the saved index\n",
    "for i in range(int(start_i), len(files)):\n",
    "\n",
    "    if i % 50 == 0:\n",
    "        print(i / len(files) * 100)  # Progress indicator\n",
    "\n",
    "    # Reload baseline in each iteration to preserve updates\n",
    "    df_bl = pd.read_csv(wd + '/baseline/baseline_pop.csv')\n",
    "\n",
    "    file = files[i]\n",
    "    df_pops = pd.read_csv(wd + '/pop/' + file, index_col=0)\n",
    "\n",
    "    # Drop rows without valid FID\n",
    "    df_pops_bl = df_pops.dropna(subset=['FID']).reset_index(drop=True)\n",
    "\n",
    "    # Extract weekday from filename (assumes format ends with YYYY-MM-DD.csv)\n",
    "    wday = datetime.strptime(file[-19:-9], \"%Y-%m-%d\").weekday()\n",
    "\n",
    "    # Iterate through each row in the population file\n",
    "    for j in range(len(df_pops_bl)):\n",
    "\n",
    "        ID = int(df_pops_bl.loc[j, 'FID'])  # Area ID\n",
    "        value = df_pops_bl.loc[j, 'n_baseline']  # Baseline population count\n",
    "        df_bl_t = df_bl[df_bl['FID'] == ID]  # Filter existing record\n",
    "\n",
    "        # If FID not found in baseline, add a new row with the current weekday's value\n",
    "        if len(df_bl_t) == 0:\n",
    "            row = [int(ID)] + [-999 if k != wday else value for k in range(7)]\n",
    "            df_bl.loc[len(df_bl)] = row\n",
    "\n",
    "        # If FID is found, update the value for the current weekday if not already set\n",
    "        else:\n",
    "            if len(df_bl_t.index) == 1:\n",
    "                if (df_bl.loc[df_bl_t.index[0], str(wday)] > 0) == False:\n",
    "                    df_bl.loc[df_bl_t.index[0], str(wday)] = value\n",
    "            else:\n",
    "                print('more than one row in df_bl_t')\n",
    "\n",
    "    # Update the counter file with the current index\n",
    "    filename = wd + '/baseline/counter_pop.txt'\n",
    "    with open(filename, 'w') as file:\n",
    "        file.write(str(i))\n",
    "\n",
    "    # Save the updated baseline to CSV\n",
    "    df_bl.to_csv(wd + '/baseline/baseline_pop.csv', index=False)\n"
   ]
  }
 ],
 "metadata": {
  "kernelspec": {
   "display_name": "Python 3 (ipykernel)",
   "language": "python",
   "name": "python3"
  },
  "language_info": {
   "codemirror_mode": {
    "name": "ipython",
    "version": 3
   },
   "file_extension": ".py",
   "mimetype": "text/x-python",
   "name": "python",
   "nbconvert_exporter": "python",
   "pygments_lexer": "ipython3",
   "version": "3.10.9"
  }
 },
 "nbformat": 4,
 "nbformat_minor": 5
}
