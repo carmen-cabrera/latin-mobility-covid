{
 "cells": [
  {
   "cell_type": "markdown",
   "id": "f81cb52d",
   "metadata": {},
   "source": [
    "# Imports"
   ]
  },
  {
   "cell_type": "code",
   "execution_count": 2,
   "id": "3d93d02b",
   "metadata": {},
   "outputs": [],
   "source": [
    "import os\n",
    "import pandas as pd\n",
    "import numpy as np\n",
    "from datetime import datetime"
   ]
  },
  {
   "cell_type": "markdown",
   "id": "a252ab0c",
   "metadata": {},
   "source": [
    "# Define country and parameters"
   ]
  },
  {
   "cell_type": "code",
   "execution_count": 6,
   "id": "be3dfce8",
   "metadata": {},
   "outputs": [],
   "source": [
    "# Select target country\n",
    "country = 'Colombia'\n",
    "\n",
    "# Set country-specific parameters: ISO codes and buffer size (in meters)\n",
    "if country == 'Argentina':\n",
    "    country_short = 'ARG'   # ISO 3-letter code\n",
    "    country_code = 'AR'     # ISO 2-letter code\n",
    "elif country == 'Chile':\n",
    "    country_short = 'CHL'\n",
    "    country_code = 'CL'\n",
    "elif country == 'Colombia':\n",
    "    country_short = 'COL'\n",
    "    country_code = 'CO'\n",
    "# Uncomment the following if Mexico is to be included in the analysis\n",
    "# elif country == 'Mexico':\n",
    "#     country_short = 'MEX'\n",
    "#     country_code = 'MX'"
   ]
  },
  {
   "cell_type": "markdown",
   "id": "92b01003",
   "metadata": {},
   "source": [
    "# Set working directory"
   ]
  },
  {
   "cell_type": "code",
   "execution_count": 5,
   "id": "b569cb81",
   "metadata": {},
   "outputs": [],
   "source": [
    "# Define working directory path\n",
    "\n",
    "wd = (\n",
    "    '/Users/carmen/Library/CloudStorage/OneDrive-TheUniversityofLiverpool/'\n",
    "    'Research/RECAST/latin-mobility-covid-local-files/data/outputs/' + country_short \n",
    ")"
   ]
  },
  {
   "cell_type": "markdown",
   "id": "ff80ed91",
   "metadata": {},
   "source": [
    "# Initialise baseline population data"
   ]
  },
  {
   "cell_type": "code",
   "execution_count": 8,
   "id": "62d14e47",
   "metadata": {},
   "outputs": [],
   "source": [
    "# Days of the week are coded according to the `datetime` library (0 = Monday, 6 = Sunday)\n",
    "\n",
    "### ONLY UNCOMMENT THE LINES BELOW TO FILL IN BASELINE DATAFRAME FROM SCRATCH!!\n",
    "\n",
    "# # Initialise an empty baseline population DataFrame with columns for each day of the week\n",
    "# df_bl = pd.DataFrame({\n",
    "#     'FID': [],  # Feature ID\n",
    "#     '0': [],    # Monday\n",
    "#     '1': [],    # Tuesday\n",
    "#     '2': [],    # Wednesday\n",
    "#     '3': [],    # Thursday\n",
    "#     '4': [],    # Friday\n",
    "#     '5': [],    # Saturday\n",
    "#     '6': []     # Sunday\n",
    "# })\n",
    "\n",
    "# # Save the empty baseline DataFrame to the local working directory\n",
    "# df_bl.to_csv(wd + '/baseline/baseline_pop.csv', index=False)\n",
    "\n",
    "# # Create or overwrite the counter file used to track progress in processing\n",
    "# filename = wd + '/baseline/counter_pop.txt'\n",
    "# with open(filename, 'w') as file:\n",
    "#     file.write(str(0))\n"
   ]
  },
  {
   "cell_type": "markdown",
   "id": "30ddc12d",
   "metadata": {},
   "source": [
    "# Update baseline population data using daily files"
   ]
  },
  {
   "cell_type": "code",
   "execution_count": 4,
   "id": "e3ed4d52",
   "metadata": {},
   "outputs": [
    {
     "name": "stdout",
     "output_type": "stream",
     "text": [
      "0\n",
      "0.0\n",
      "1.2903225806451613\n",
      "2.5806451612903225\n",
      "3.870967741935484\n",
      "5.161290322580645\n",
      "6.451612903225806\n",
      "7.741935483870968\n",
      "9.032258064516128\n",
      "10.32258064516129\n",
      "11.612903225806452\n",
      "12.903225806451612\n",
      "14.193548387096774\n",
      "15.483870967741936\n",
      "16.7741935483871\n",
      "18.064516129032256\n",
      "19.35483870967742\n",
      "20.64516129032258\n",
      "21.935483870967744\n",
      "23.225806451612904\n",
      "24.516129032258064\n",
      "25.806451612903224\n",
      "27.09677419354839\n",
      "28.387096774193548\n",
      "29.677419354838708\n",
      "30.967741935483872\n",
      "32.25806451612903\n",
      "33.5483870967742\n",
      "34.83870967741935\n",
      "36.12903225806451\n",
      "37.41935483870968\n",
      "38.70967741935484\n",
      "40.0\n",
      "41.29032258064516\n",
      "42.58064516129032\n",
      "43.87096774193549\n",
      "45.16129032258064\n",
      "46.45161290322581\n",
      "47.74193548387097\n",
      "49.03225806451613\n",
      "50.32258064516129\n",
      "51.61290322580645\n",
      "52.903225806451616\n",
      "54.19354838709678\n",
      "55.483870967741936\n",
      "56.774193548387096\n",
      "58.06451612903226\n",
      "59.354838709677416\n",
      "60.64516129032258\n",
      "61.935483870967744\n",
      "63.2258064516129\n",
      "64.51612903225806\n",
      "65.80645161290323\n",
      "67.0967741935484\n",
      "68.38709677419355\n",
      "69.6774193548387\n",
      "70.96774193548387\n",
      "72.25806451612902\n",
      "73.54838709677419\n",
      "74.83870967741936\n",
      "76.12903225806451\n",
      "77.41935483870968\n",
      "78.70967741935485\n",
      "80.0\n",
      "81.29032258064515\n",
      "82.58064516129032\n",
      "83.87096774193549\n",
      "85.16129032258064\n",
      "86.45161290322581\n",
      "87.74193548387098\n",
      "89.03225806451613\n",
      "90.32258064516128\n",
      "91.61290322580645\n",
      "92.90322580645162\n",
      "94.19354838709677\n",
      "95.48387096774194\n",
      "96.7741935483871\n",
      "98.06451612903226\n",
      "99.35483870967742\n"
     ]
    }
   ],
   "source": [
    "# This cell:\n",
    "# - Loads the index from 'counter_pop.txt' to resume processing\n",
    "# - Iterates through daily population files in '/pop/'\n",
    "# - Updates the baseline DataFrame for each FID and day of the week\n",
    "# - Writes progress to 'counter_pop.txt' after each file\n",
    "# - Saves the updated baseline to 'baseline_pop.csv'\n",
    "\n",
    "\n",
    "# Load the index to resume processing from the last file processed\n",
    "filename = wd + '/baseline/counter_pop.txt'\n",
    "with open(filename, 'r') as file:\n",
    "    start_i = file.read()\n",
    "print(start_i)\n",
    "\n",
    "# Load existing baseline population data\n",
    "df_bl = pd.read_csv(wd + '/baseline/baseline_pop.csv')\n",
    "\n",
    "# List and sort all files in the 'pop' subdirectory of the working directory\n",
    "files = sorted(os.listdir(wd + '/pop/'))\n",
    "\n",
    "# Filter out hidden files (e.g., .DS_Store or other dotfiles)\n",
    "files = [file for file in files if not file.startswith('.')]\n",
    "\n",
    "# Loop through the population files starting from the saved index\n",
    "for i in range(int(start_i), len(files)):\n",
    "\n",
    "    if i % 50 == 0:\n",
    "        print(i / len(files) * 100)  # Progress indicator\n",
    "\n",
    "    # Reload baseline in each iteration to preserve updates\n",
    "    df_bl = pd.read_csv(wd + '/baseline/baseline_pop.csv')\n",
    "\n",
    "    file = files[i]\n",
    "    df_pops = pd.read_csv(wd + '/pop/' + file, index_col=0)\n",
    "\n",
    "    # Drop rows without valid FID\n",
    "    df_pops_bl = df_pops.dropna(subset=['FID']).reset_index(drop=True)\n",
    "\n",
    "    # Extract weekday from filename (assumes format ends with YYYY-MM-DD.csv)\n",
    "    wday = datetime.strptime(file[-19:-9], \"%Y-%m-%d\").weekday()\n",
    "\n",
    "    # Iterate through each row in the population file\n",
    "    for j in range(len(df_pops_bl)):\n",
    "\n",
    "        ID = int(df_pops_bl.loc[j, 'FID'])  # Area ID\n",
    "        value = df_pops_bl.loc[j, 'n_baseline']  # Baseline population count\n",
    "        df_bl_t = df_bl[df_bl['FID'] == ID]  # Filter existing record\n",
    "\n",
    "        # If FID not found in baseline, add a new row with the current weekday's value\n",
    "        if len(df_bl_t) == 0:\n",
    "            row = [int(ID)] + [-999 if k != wday else value for k in range(7)]\n",
    "            df_bl.loc[len(df_bl)] = row\n",
    "\n",
    "        # If FID is found, update the value for the current weekday if not already set\n",
    "        else:\n",
    "            if len(df_bl_t.index) == 1:\n",
    "                if (df_bl.loc[df_bl_t.index[0], str(wday)] > 0) == False:\n",
    "                    df_bl.loc[df_bl_t.index[0], str(wday)] = value\n",
    "            else:\n",
    "                print('more than one row in df_bl_t')\n",
    "\n",
    "    # Update the counter file with the current index\n",
    "    filename = wd + '/baseline/counter_pop.txt'\n",
    "    with open(filename, 'w') as file:\n",
    "        file.write(str(i))\n",
    "\n",
    "    # Save the updated baseline to CSV\n",
    "    df_bl.to_csv(wd + '/baseline/baseline_pop.csv', index=False)\n"
   ]
  },
  {
   "cell_type": "code",
   "execution_count": 6,
   "id": "b99a279d",
   "metadata": {},
   "outputs": [
    {
     "data": {
      "text/plain": [
       "170"
      ]
     },
     "execution_count": 6,
     "metadata": {},
     "output_type": "execute_result"
    }
   ],
   "source": [
    "i"
   ]
  },
  {
   "cell_type": "code",
   "execution_count": null,
   "id": "c00aa34a",
   "metadata": {},
   "outputs": [],
   "source": []
  }
 ],
 "metadata": {
  "kernelspec": {
   "display_name": "Python 3 (ipykernel)",
   "language": "python",
   "name": "python3"
  },
  "language_info": {
   "codemirror_mode": {
    "name": "ipython",
    "version": 3
   },
   "file_extension": ".py",
   "mimetype": "text/x-python",
   "name": "python",
   "nbconvert_exporter": "python",
   "pygments_lexer": "ipython3",
   "version": "3.10.9"
  }
 },
 "nbformat": 4,
 "nbformat_minor": 5
}
