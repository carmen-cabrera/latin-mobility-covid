{
 "cells": [
  {
   "cell_type": "code",
   "execution_count": 3,
   "id": "3d93d02b",
   "metadata": {},
   "outputs": [],
   "source": [
    "import matplotlib.pyplot as plt\n",
    "import numpy as np\n",
    "import math\n",
    "import pandas as pd\n",
    "import statsmodels.api as sm\n",
    "from scipy.special import gamma, loggamma, factorial\n",
    "import scipy.stats\n",
    "from scipy.interpolate import interp1d\n",
    "from matplotlib.ticker import AutoMinorLocator \n",
    "from matplotlib import rc, font_manager\n",
    "from matplotlib.lines import Line2D\n",
    "from matplotlib import colors as mcolors\n",
    "from mycolorpy import colorlist as mcp\n",
    "from matplotlib import legend_handler\n",
    "from mpl_toolkits.axes_grid1 import make_axes_locatable, axes_size\n",
    "import collections\n",
    "import matplotlib\n",
    "import shapely.geometry\n",
    "from shapely.geometry import Point\n",
    "import shapely.ops \n",
    "from geopy.geocoders import Nominatim\n",
    "import geopandas as gpd\n",
    "import mapclassify\n",
    "import jenkspy\n",
    "import contextily as cx\n",
    "import os\n",
    "import rioxarray as rx\n",
    "import pyreadr\n",
    "from sklearn.preprocessing import StandardScaler\n",
    "from sklearn.cluster import KMeans\n",
    "from sklearn import metrics\n",
    "# import plots\n",
    "import seaborn as sns\n",
    "from datetime import datetime"
   ]
  },
  {
   "cell_type": "code",
   "execution_count": 191,
   "id": "5d0464c5",
   "metadata": {},
   "outputs": [],
   "source": [
    "\n",
    "country = 'Colombia'\n",
    "\n",
    "if country=='Argentina':\n",
    "    country_short = 'ARG'\n",
    "    country_code = 'AR'\n",
    "elif country == 'Chile':\n",
    "    country_short = 'CHL'\n",
    "    country_code = 'CL'\n",
    "elif country == 'Colombia':\n",
    "    country_short = 'COL'\n",
    "    country_code = 'CO'\n",
    "elif country == 'Mexico':\n",
    "    country_short = 'MEX'\n",
    "    country_code = 'MX'\n",
    "\n",
    "\n",
    "directory = '/Volumes/RECAST/data/outputs/latin-mobility-covid/' + country_short\n",
    "wd = '/Users/carmen/Library/CloudStorage/OneDrive-TheUniversityofLiverpool/Research/RECAST/latin-mobility-covid-local-files/data/outputs/' + country_short \n",
    "\n",
    "\n",
    "files = sorted(os.listdir(wd + '/mov/'))\n",
    "files = [file for file in files if not file.startswith('.')]\n"
   ]
  },
  {
   "cell_type": "markdown",
   "id": "4ffcdac2",
   "metadata": {},
   "source": [
    "## Baseline Facebook Population"
   ]
  },
  {
   "cell_type": "code",
   "execution_count": 192,
   "id": "da28faf7",
   "metadata": {},
   "outputs": [],
   "source": [
    "df_bl = pd.read_csv(wd + '/baseline/baseline_pop.csv')"
   ]
  },
  {
   "cell_type": "code",
   "execution_count": 193,
   "id": "d389b0bf",
   "metadata": {},
   "outputs": [],
   "source": [
    "present = 0\n",
    "incomplete = 0\n",
    "missing = 0\n",
    "total = 0\n",
    "for i in range(6):\n",
    "    present += len(df_bl[df_bl[str(i)]>0])\n",
    "    incomplete += len(df_bl[df_bl[str(i)]==-999])\n",
    "    total += len(df_bl)\n",
    "    missing += len(df_bl) - len(df_bl[df_bl[str(i)]>0]) - len(df_bl[df_bl[str(i)]==-999])"
   ]
  },
  {
   "cell_type": "code",
   "execution_count": 194,
   "id": "2f060f3c",
   "metadata": {},
   "outputs": [
    {
     "data": {
      "text/plain": [
       "57127"
      ]
     },
     "execution_count": 194,
     "metadata": {},
     "output_type": "execute_result"
    }
   ],
   "source": [
    "present"
   ]
  },
  {
   "cell_type": "code",
   "execution_count": 195,
   "id": "7bd84856",
   "metadata": {},
   "outputs": [
    {
     "data": {
      "text/plain": [
       "287382"
      ]
     },
     "execution_count": 195,
     "metadata": {},
     "output_type": "execute_result"
    }
   ],
   "source": [
    "total"
   ]
  },
  {
   "cell_type": "code",
   "execution_count": 196,
   "id": "814de47f",
   "metadata": {},
   "outputs": [
    {
     "data": {
      "text/plain": [
       "230255"
      ]
     },
     "execution_count": 196,
     "metadata": {},
     "output_type": "execute_result"
    }
   ],
   "source": [
    "total-present"
   ]
  },
  {
   "cell_type": "code",
   "execution_count": 197,
   "id": "7172e4d1",
   "metadata": {},
   "outputs": [
    {
     "data": {
      "text/plain": [
       "80.12158033558121"
      ]
     },
     "execution_count": 197,
     "metadata": {},
     "output_type": "execute_result"
    }
   ],
   "source": [
    "(total-present)/total*100"
   ]
  },
  {
   "cell_type": "markdown",
   "id": "1ad0ead0",
   "metadata": {},
   "source": [
    "## Baseline Facebook Movement"
   ]
  },
  {
   "cell_type": "code",
   "execution_count": 198,
   "id": "a4d22849",
   "metadata": {},
   "outputs": [],
   "source": [
    "df_bl = pd.read_csv(wd + '/baseline/baseline_mov.csv')"
   ]
  },
  {
   "cell_type": "code",
   "execution_count": 199,
   "id": "aed446ca",
   "metadata": {},
   "outputs": [
    {
     "data": {
      "text/html": [
       "<div>\n",
       "<style scoped>\n",
       "    .dataframe tbody tr th:only-of-type {\n",
       "        vertical-align: middle;\n",
       "    }\n",
       "\n",
       "    .dataframe tbody tr th {\n",
       "        vertical-align: top;\n",
       "    }\n",
       "\n",
       "    .dataframe thead th {\n",
       "        text-align: right;\n",
       "    }\n",
       "</style>\n",
       "<table border=\"1\" class=\"dataframe\">\n",
       "  <thead>\n",
       "    <tr style=\"text-align: right;\">\n",
       "      <th></th>\n",
       "      <th>O</th>\n",
       "      <th>D</th>\n",
       "      <th>0</th>\n",
       "      <th>1</th>\n",
       "      <th>2</th>\n",
       "      <th>3</th>\n",
       "      <th>4</th>\n",
       "      <th>5</th>\n",
       "      <th>6</th>\n",
       "    </tr>\n",
       "  </thead>\n",
       "  <tbody>\n",
       "    <tr>\n",
       "      <th>0</th>\n",
       "      <td>28615.0</td>\n",
       "      <td>28615.0</td>\n",
       "      <td>26.0</td>\n",
       "      <td>26.4</td>\n",
       "      <td>27.6</td>\n",
       "      <td>25.6</td>\n",
       "      <td>27.8</td>\n",
       "      <td>28.4</td>\n",
       "      <td>39.5</td>\n",
       "    </tr>\n",
       "    <tr>\n",
       "      <th>1</th>\n",
       "      <td>28614.0</td>\n",
       "      <td>28615.0</td>\n",
       "      <td>NaN</td>\n",
       "      <td>NaN</td>\n",
       "      <td>10.2</td>\n",
       "      <td>NaN</td>\n",
       "      <td>NaN</td>\n",
       "      <td>NaN</td>\n",
       "      <td>10.5</td>\n",
       "    </tr>\n",
       "    <tr>\n",
       "      <th>2</th>\n",
       "      <td>29043.0</td>\n",
       "      <td>28614.0</td>\n",
       "      <td>NaN</td>\n",
       "      <td>NaN</td>\n",
       "      <td>NaN</td>\n",
       "      <td>NaN</td>\n",
       "      <td>NaN</td>\n",
       "      <td>NaN</td>\n",
       "      <td>NaN</td>\n",
       "    </tr>\n",
       "    <tr>\n",
       "      <th>3</th>\n",
       "      <td>14990.0</td>\n",
       "      <td>14990.0</td>\n",
       "      <td>NaN</td>\n",
       "      <td>NaN</td>\n",
       "      <td>NaN</td>\n",
       "      <td>NaN</td>\n",
       "      <td>NaN</td>\n",
       "      <td>NaN</td>\n",
       "      <td>NaN</td>\n",
       "    </tr>\n",
       "    <tr>\n",
       "      <th>4</th>\n",
       "      <td>14732.0</td>\n",
       "      <td>14732.0</td>\n",
       "      <td>11.0</td>\n",
       "      <td>10.0</td>\n",
       "      <td>10.2</td>\n",
       "      <td>NaN</td>\n",
       "      <td>NaN</td>\n",
       "      <td>10.0</td>\n",
       "      <td>11.0</td>\n",
       "    </tr>\n",
       "    <tr>\n",
       "      <th>...</th>\n",
       "      <td>...</td>\n",
       "      <td>...</td>\n",
       "      <td>...</td>\n",
       "      <td>...</td>\n",
       "      <td>...</td>\n",
       "      <td>...</td>\n",
       "      <td>...</td>\n",
       "      <td>...</td>\n",
       "      <td>...</td>\n",
       "    </tr>\n",
       "    <tr>\n",
       "      <th>116946</th>\n",
       "      <td>39397.0</td>\n",
       "      <td>35225.0</td>\n",
       "      <td>-999.0</td>\n",
       "      <td>-999.0</td>\n",
       "      <td>-999.0</td>\n",
       "      <td>-999.0</td>\n",
       "      <td>-999.0</td>\n",
       "      <td>NaN</td>\n",
       "      <td>-999.0</td>\n",
       "    </tr>\n",
       "    <tr>\n",
       "      <th>116947</th>\n",
       "      <td>36767.0</td>\n",
       "      <td>35176.0</td>\n",
       "      <td>-999.0</td>\n",
       "      <td>-999.0</td>\n",
       "      <td>-999.0</td>\n",
       "      <td>-999.0</td>\n",
       "      <td>-999.0</td>\n",
       "      <td>NaN</td>\n",
       "      <td>-999.0</td>\n",
       "    </tr>\n",
       "    <tr>\n",
       "      <th>116948</th>\n",
       "      <td>37427.0</td>\n",
       "      <td>26836.0</td>\n",
       "      <td>-999.0</td>\n",
       "      <td>-999.0</td>\n",
       "      <td>-999.0</td>\n",
       "      <td>-999.0</td>\n",
       "      <td>-999.0</td>\n",
       "      <td>NaN</td>\n",
       "      <td>-999.0</td>\n",
       "    </tr>\n",
       "    <tr>\n",
       "      <th>116949</th>\n",
       "      <td>13961.0</td>\n",
       "      <td>14208.0</td>\n",
       "      <td>-999.0</td>\n",
       "      <td>-999.0</td>\n",
       "      <td>-999.0</td>\n",
       "      <td>-999.0</td>\n",
       "      <td>-999.0</td>\n",
       "      <td>NaN</td>\n",
       "      <td>-999.0</td>\n",
       "    </tr>\n",
       "    <tr>\n",
       "      <th>116950</th>\n",
       "      <td>29695.0</td>\n",
       "      <td>28149.0</td>\n",
       "      <td>-999.0</td>\n",
       "      <td>-999.0</td>\n",
       "      <td>-999.0</td>\n",
       "      <td>-999.0</td>\n",
       "      <td>-999.0</td>\n",
       "      <td>NaN</td>\n",
       "      <td>-999.0</td>\n",
       "    </tr>\n",
       "  </tbody>\n",
       "</table>\n",
       "<p>116951 rows × 9 columns</p>\n",
       "</div>"
      ],
      "text/plain": [
       "              O        D      0      1      2      3      4     5      6\n",
       "0       28615.0  28615.0   26.0   26.4   27.6   25.6   27.8  28.4   39.5\n",
       "1       28614.0  28615.0    NaN    NaN   10.2    NaN    NaN   NaN   10.5\n",
       "2       29043.0  28614.0    NaN    NaN    NaN    NaN    NaN   NaN    NaN\n",
       "3       14990.0  14990.0    NaN    NaN    NaN    NaN    NaN   NaN    NaN\n",
       "4       14732.0  14732.0   11.0   10.0   10.2    NaN    NaN  10.0   11.0\n",
       "...         ...      ...    ...    ...    ...    ...    ...   ...    ...\n",
       "116946  39397.0  35225.0 -999.0 -999.0 -999.0 -999.0 -999.0   NaN -999.0\n",
       "116947  36767.0  35176.0 -999.0 -999.0 -999.0 -999.0 -999.0   NaN -999.0\n",
       "116948  37427.0  26836.0 -999.0 -999.0 -999.0 -999.0 -999.0   NaN -999.0\n",
       "116949  13961.0  14208.0 -999.0 -999.0 -999.0 -999.0 -999.0   NaN -999.0\n",
       "116950  29695.0  28149.0 -999.0 -999.0 -999.0 -999.0 -999.0   NaN -999.0\n",
       "\n",
       "[116951 rows x 9 columns]"
      ]
     },
     "execution_count": 199,
     "metadata": {},
     "output_type": "execute_result"
    }
   ],
   "source": [
    "df_bl"
   ]
  },
  {
   "cell_type": "code",
   "execution_count": 200,
   "id": "25344ede",
   "metadata": {},
   "outputs": [],
   "source": [
    "present = 0\n",
    "incomplete = 0\n",
    "missing = 0\n",
    "total = 0\n",
    "for i in range(6):\n",
    "    present += len(df_bl[df_bl[str(i)]>0])\n",
    "    incomplete += len(df_bl[df_bl[str(i)]==-999])\n",
    "    total += len(df_bl)\n",
    "    missing += len(df_bl) - len(df_bl[df_bl[str(i)]>0]) - len(df_bl[df_bl[str(i)]==-999])"
   ]
  },
  {
   "cell_type": "code",
   "execution_count": 201,
   "id": "7263cf7a",
   "metadata": {},
   "outputs": [
    {
     "data": {
      "text/plain": [
       "40199"
      ]
     },
     "execution_count": 201,
     "metadata": {},
     "output_type": "execute_result"
    }
   ],
   "source": [
    "present"
   ]
  },
  {
   "cell_type": "code",
   "execution_count": 202,
   "id": "b687a044",
   "metadata": {},
   "outputs": [
    {
     "data": {
      "text/plain": [
       "701706"
      ]
     },
     "execution_count": 202,
     "metadata": {},
     "output_type": "execute_result"
    }
   ],
   "source": [
    "total"
   ]
  },
  {
   "cell_type": "code",
   "execution_count": 203,
   "id": "f3b3254f",
   "metadata": {},
   "outputs": [
    {
     "data": {
      "text/plain": [
       "661507"
      ]
     },
     "execution_count": 203,
     "metadata": {},
     "output_type": "execute_result"
    }
   ],
   "source": [
    "total-present"
   ]
  },
  {
   "cell_type": "code",
   "execution_count": 204,
   "id": "404c5569",
   "metadata": {},
   "outputs": [
    {
     "data": {
      "text/plain": [
       "94.2712475025153"
      ]
     },
     "execution_count": 204,
     "metadata": {},
     "output_type": "execute_result"
    }
   ],
   "source": [
    "(total-present)/total*100"
   ]
  },
  {
   "cell_type": "markdown",
   "id": "db691d23",
   "metadata": {},
   "source": [
    "## Crisis Facebook Population"
   ]
  },
  {
   "cell_type": "code",
   "execution_count": 205,
   "id": "62d14e47",
   "metadata": {},
   "outputs": [],
   "source": [
    "df_cr = pd.read_csv(wd + '/evo/pop_evo_popcell_raw.csv').drop(['Unnamed: 0'], axis=1)\n"
   ]
  },
  {
   "cell_type": "code",
   "execution_count": 206,
   "id": "14919616",
   "metadata": {},
   "outputs": [
    {
     "data": {
      "text/plain": [
       "Index(['2020-04-04', '2020-04-05', '2020-04-06', '2020-04-07', '2020-04-08',\n",
       "       '2020-04-09', '2020-04-10', '2020-04-11', '2020-04-12', '2020-04-13',\n",
       "       ...\n",
       "       '2022-05-12', '2022-05-13', '2022-05-14', '2022-05-15', '2022-05-16',\n",
       "       '2022-05-17', '2022-05-18', '2022-05-19', '2022-05-20', '2022-05-21'],\n",
       "      dtype='object', length=778)"
      ]
     },
     "execution_count": 206,
     "metadata": {},
     "output_type": "execute_result"
    }
   ],
   "source": [
    "df_cr.columns[1:]\n"
   ]
  },
  {
   "cell_type": "code",
   "execution_count": 207,
   "id": "78f030fd",
   "metadata": {},
   "outputs": [],
   "source": [
    "present = 0\n",
    "incomplete = 0\n",
    "missing = 0\n",
    "total = 0\n",
    "for column in df_cr.columns[1:]:\n",
    "    present += len(df_cr[df_cr[column]>0])\n",
    "    incomplete += len(df_cr[df_cr[column]==-999])\n",
    "    total += len(df_cr)\n",
    "    missing += len(df_cr) - len(df_cr[df_cr[column]>0]) - len(df_cr[df_cr[column]==-999])"
   ]
  },
  {
   "cell_type": "code",
   "execution_count": 208,
   "id": "c00aa34a",
   "metadata": {},
   "outputs": [
    {
     "data": {
      "text/plain": [
       "7175914"
      ]
     },
     "execution_count": 208,
     "metadata": {},
     "output_type": "execute_result"
    }
   ],
   "source": [
    "present\n"
   ]
  },
  {
   "cell_type": "code",
   "execution_count": 209,
   "id": "3d8c3eae",
   "metadata": {},
   "outputs": [
    {
     "data": {
      "text/plain": [
       "38374072"
      ]
     },
     "execution_count": 209,
     "metadata": {},
     "output_type": "execute_result"
    }
   ],
   "source": [
    "total\n"
   ]
  },
  {
   "cell_type": "code",
   "execution_count": 210,
   "id": "4755faab",
   "metadata": {},
   "outputs": [
    {
     "data": {
      "text/plain": [
       "31198158"
      ]
     },
     "execution_count": 210,
     "metadata": {},
     "output_type": "execute_result"
    }
   ],
   "source": [
    "total-present\n"
   ]
  },
  {
   "cell_type": "code",
   "execution_count": 211,
   "id": "566ded37",
   "metadata": {},
   "outputs": [
    {
     "data": {
      "text/plain": [
       "81.30009762841952"
      ]
     },
     "execution_count": 211,
     "metadata": {},
     "output_type": "execute_result"
    }
   ],
   "source": [
    "(total-present)/total*100\n"
   ]
  },
  {
   "cell_type": "markdown",
   "id": "c049f8cd",
   "metadata": {},
   "source": [
    "## Crisis Facebook Movcell"
   ]
  },
  {
   "cell_type": "code",
   "execution_count": 212,
   "id": "c748a7f8",
   "metadata": {},
   "outputs": [],
   "source": [
    "df_cr = pd.read_csv(wd + '/evo/mov_evo_dist_raw.csv').drop(['Unnamed: 0'], axis=1)\n"
   ]
  },
  {
   "cell_type": "code",
   "execution_count": 213,
   "id": "6f376850",
   "metadata": {},
   "outputs": [
    {
     "data": {
      "text/plain": [
       "Index(['2020-03-13', '2020-03-14', '2020-03-15', '2020-03-16', '2020-03-17',\n",
       "       '2020-03-18', '2020-03-19', '2020-03-20', '2020-03-21', '2020-03-22',\n",
       "       ...\n",
       "       '2022-05-12', '2022-05-13', '2022-05-14', '2022-05-15', '2022-05-16',\n",
       "       '2022-05-17', '2022-05-18', '2022-05-19', '2022-05-20', '2022-05-21'],\n",
       "      dtype='object', length=800)"
      ]
     },
     "execution_count": 213,
     "metadata": {},
     "output_type": "execute_result"
    }
   ],
   "source": [
    "df_cr.columns[2:]\n"
   ]
  },
  {
   "cell_type": "code",
   "execution_count": 214,
   "id": "02800504",
   "metadata": {},
   "outputs": [],
   "source": [
    "present = 0\n",
    "incomplete = 0\n",
    "missing = 0\n",
    "total = 0\n",
    "for column in df_cr.columns[2:]:\n",
    "    present += len(df_cr[df_cr[column]>0])\n",
    "    incomplete += len(df_cr[df_cr[column]==-999])\n",
    "    total += len(df_cr)\n",
    "    missing += len(df_cr) - len(df_cr[df_cr[column]>0]) - len(df_cr[df_cr[column]==-999])"
   ]
  },
  {
   "cell_type": "code",
   "execution_count": 215,
   "id": "075b0583",
   "metadata": {},
   "outputs": [
    {
     "data": {
      "text/plain": [
       "2526254"
      ]
     },
     "execution_count": 215,
     "metadata": {},
     "output_type": "execute_result"
    }
   ],
   "source": [
    "present\n"
   ]
  },
  {
   "cell_type": "code",
   "execution_count": 216,
   "id": "a2d8e441",
   "metadata": {},
   "outputs": [
    {
     "data": {
      "text/plain": [
       "93560800"
      ]
     },
     "execution_count": 216,
     "metadata": {},
     "output_type": "execute_result"
    }
   ],
   "source": [
    "total\n"
   ]
  },
  {
   "cell_type": "code",
   "execution_count": 217,
   "id": "1cdb03cd",
   "metadata": {},
   "outputs": [
    {
     "data": {
      "text/plain": [
       "91034546"
      ]
     },
     "execution_count": 217,
     "metadata": {},
     "output_type": "execute_result"
    }
   ],
   "source": [
    "total-present\n"
   ]
  },
  {
   "cell_type": "code",
   "execution_count": 218,
   "id": "ad4caf10",
   "metadata": {},
   "outputs": [
    {
     "data": {
      "text/plain": [
       "97.29987986421665"
      ]
     },
     "execution_count": 218,
     "metadata": {},
     "output_type": "execute_result"
    }
   ],
   "source": [
    "(total-present)/total*100\n"
   ]
  },
  {
   "cell_type": "code",
   "execution_count": null,
   "id": "418c83ab",
   "metadata": {},
   "outputs": [],
   "source": []
  },
  {
   "cell_type": "code",
   "execution_count": null,
   "id": "ed613509",
   "metadata": {},
   "outputs": [],
   "source": []
  }
 ],
 "metadata": {
  "kernelspec": {
   "display_name": "Python 3 (ipykernel)",
   "language": "python",
   "name": "python3"
  },
  "language_info": {
   "codemirror_mode": {
    "name": "ipython",
    "version": 3
   },
   "file_extension": ".py",
   "mimetype": "text/x-python",
   "name": "python",
   "nbconvert_exporter": "python",
   "pygments_lexer": "ipython3",
   "version": "3.10.9"
  }
 },
 "nbformat": 4,
 "nbformat_minor": 5
}
