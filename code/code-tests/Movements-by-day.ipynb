{
 "cells": [
  {
   "cell_type": "code",
   "execution_count": 7,
   "id": "430b5839",
   "metadata": {},
   "outputs": [],
   "source": [
    "import matplotlib.pyplot as plt\n",
    "import numpy as np\n",
    "import math\n",
    "import pandas as pd\n",
    "import statsmodels.api as sm\n",
    "from scipy.special import gamma, loggamma, factorial\n",
    "import scipy.stats\n",
    "from scipy.interpolate import interp1d\n",
    "from matplotlib.ticker import AutoMinorLocator \n",
    "from matplotlib import rc, font_manager\n",
    "from matplotlib.lines import Line2D\n",
    "from matplotlib import colors as mcolors\n",
    "from mycolorpy import colorlist as mcp\n",
    "from matplotlib import legend_handler\n",
    "from mpl_toolkits.axes_grid1 import make_axes_locatable, axes_size\n",
    "import collections\n",
    "import matplotlib\n",
    "import shapely.geometry\n",
    "import shapely.ops \n",
    "from geopy.geocoders import Nominatim\n",
    "import geopandas as gpd\n",
    "import mapclassify\n",
    "import jenkspy\n",
    "import contextily as cx\n",
    "import os\n",
    "import rioxarray as rx\n",
    "import pyreadr\n",
    "from sklearn.preprocessing import StandardScaler\n",
    "from sklearn.cluster import KMeans\n",
    "from sklearn import metrics\n",
    "# import plots\n",
    "import seaborn as sns"
   ]
  },
  {
   "cell_type": "code",
   "execution_count": 8,
   "id": "b7812bce",
   "metadata": {},
   "outputs": [],
   "source": [
    "wd = os.path.dirname(os.getcwd())"
   ]
  },
  {
   "cell_type": "code",
   "execution_count": 10,
   "id": "d450f432",
   "metadata": {},
   "outputs": [],
   "source": [
    "\n",
    "country = 'ARG'\n",
    "\n",
    "if country == 'ARG':\n",
    "    country_full = 'argentina'\n",
    "    capital = 'Buenos Aires'\n",
    "    level = '2'\n",
    "elif country == 'CHL':\n",
    "    country_full = 'chile'\n",
    "    capital = 'Santiago'\n",
    "    level = '3'\n",
    "elif country == 'COL':\n",
    "    country_full = 'colombia'\n",
    "    level = '2'\n",
    "elif country == 'MEX':\n",
    "    country_full = 'mexico'\n",
    "    level = '2'\n",
    "elif country == 'PER':\n",
    "    country_full = 'peru'\n",
    "    level = '3'"
   ]
  },
  {
   "cell_type": "code",
   "execution_count": 12,
   "id": "67cd166e",
   "metadata": {},
   "outputs": [],
   "source": [
    "df_mov = pyreadr.read_r('/Volumes/RECAST/data/outputs/' + country_full + '/movements/2022_03_mov.rds')\n",
    "df_mov = df_mov[None]\n",
    "df_mov = df_mov[df_mov['length_km'] > 0].reset_index(drop=True)\n",
    "df_mov = df_mov[df_mov['length_km'] < 70].reset_index(drop=True)\n",
    "\n",
    "df_mov['geometry'] = df_mov['geometry'].apply(shapely.wkt.loads)\n",
    "gdf_mov = gpd.GeoDataFrame(df_mov, crs='epsg:4326')\n"
   ]
  },
  {
   "cell_type": "code",
   "execution_count": 16,
   "id": "baf3dd25",
   "metadata": {},
   "outputs": [
    {
     "data": {
      "text/plain": [
       "Index(['geometry', 'date_time', 'start_polygon_id', 'start_polygon_name',\n",
       "       'end_polygon_id', 'end_polygon_name', 'length_km', 'tile_size',\n",
       "       'country', 'level', 'n_crisis', 'n_baseline', 'n_difference',\n",
       "       'percent_change', 'is_statistically_significant', 'z_score',\n",
       "       'start_lat', 'start_lon', 'end_lat', 'end_lon', 'start_quadkey',\n",
       "       'end_quadkey', 'date_time2'],\n",
       "      dtype='object')"
      ]
     },
     "execution_count": 16,
     "metadata": {},
     "output_type": "execute_result"
    }
   ],
   "source": [
    "gdf_mov.columns"
   ]
  },
  {
   "cell_type": "code",
   "execution_count": 19,
   "id": "538a9495",
   "metadata": {},
   "outputs": [
    {
     "data": {
      "text/plain": [
       "0         16.0\n",
       "1         29.6\n",
       "2         10.2\n",
       "3         23.8\n",
       "4         15.8\n",
       "          ... \n",
       "142553    19.0\n",
       "142554    19.4\n",
       "142555    18.6\n",
       "142556    11.0\n",
       "142557    88.0\n",
       "Name: n_baseline, Length: 142558, dtype: float64"
      ]
     },
     "execution_count": 19,
     "metadata": {},
     "output_type": "execute_result"
    }
   ],
   "source": [
    "gdf_mov['n_baseline']"
   ]
  },
  {
   "cell_type": "code",
   "execution_count": null,
   "id": "844478fc",
   "metadata": {},
   "outputs": [],
   "source": []
  }
 ],
 "metadata": {
  "kernelspec": {
   "display_name": "Python 3 (ipykernel)",
   "language": "python",
   "name": "python3"
  },
  "language_info": {
   "codemirror_mode": {
    "name": "ipython",
    "version": 3
   },
   "file_extension": ".py",
   "mimetype": "text/x-python",
   "name": "python",
   "nbconvert_exporter": "python",
   "pygments_lexer": "ipython3",
   "version": "3.10.9"
  }
 },
 "nbformat": 4,
 "nbformat_minor": 5
}
